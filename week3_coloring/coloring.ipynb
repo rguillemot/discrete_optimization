{
 "cells": [
  {
   "cell_type": "code",
   "execution_count": 175,
   "metadata": {
    "collapsed": true
   },
   "outputs": [],
   "source": [
    "import pandas as pd"
   ]
  },
  {
   "cell_type": "code",
   "execution_count": 178,
   "metadata": {},
   "outputs": [],
   "source": [
    "def graph_order(voisins, \n",
    "                nodes = None, \n",
    "                all_nodes = None, \n",
    "                rank_nodes = None, \n",
    "                visited_nodes = None, \n",
    "                rank = 0):\n",
    "    \n",
    "    if nodes is None:\n",
    "        nodes = voisins.index.tolist()\n",
    "    \n",
    "    if all_nodes is None:\n",
    "        all_nodes = nodes\n",
    "        \n",
    "    if rank_nodes is None:\n",
    "        rank_nodes = [-1]*len(all_nodes)\n",
    "    \n",
    "    if visited_nodes is None:\n",
    "        visited_nodes = set()\n",
    "    \n",
    "    if nodes == set():\n",
    "        return visited_nodes, rank_nodes\n",
    "    for n in nodes:\n",
    "        if n not in visited_nodes:\n",
    "            visited_nodes |= set([n])\n",
    "            #print 'node %d rank %d pos %d'%(n,rank,len(visited_nodes)-1)\n",
    "            rank_nodes[len(visited_nodes)-1]=(rank,n)\n",
    "        adj_nodes = voisins[n]-visited_nodes\n",
    "        adj_nodes = filter(lambda x: x in adj_nodes, all_nodes)\n",
    "        for n2 in adj_nodes:\n",
    "            visited_nodes |= set([n2])\n",
    "            #print 'node %d rank %d pos %d'%(n2,rank+1,len(visited_nodes)-1)\n",
    "            rank_nodes[len(visited_nodes)-1]=(rank+1,n2)\n",
    "        visited_nodes, rank_nodes = graph_order(voisins,\n",
    "                                                adj_nodes,\n",
    "                                                all_nodes,\n",
    "                                                rank_nodes, \n",
    "                                                visited_nodes,\n",
    "                                                rank + 1)\n",
    "\n",
    "    return visited_nodes, rank_nodes"
   ]
  },
  {
   "cell_type": "code",
   "execution_count": 179,
   "metadata": {
    "collapsed": true
   },
   "outputs": [],
   "source": [
    "def graph_color(node_count,voisins):\n",
    "    visited_nodes, rank_nodes = graph_order(voisins)\n",
    "    #print rank_nodes\n",
    "    colors = dict(zip(voisins.index.tolist(),[None]*node_count))\n",
    "    color_set=set()\n",
    "    for (rank,n) in rank_nodes:\n",
    "        #print 'rank %d node %d'%(r, n)\n",
    "        neighbours_already_colored = set([colors[n2] for n2 in voisins[n] if colors[n2] is not None])\n",
    "        remaining_colors = color_set-neighbours_already_colored\n",
    "        #print 'neighbours_already_colored : ' + str(neighbours_already_colored)\n",
    "        #print 'remaining_colors : ' + str(remaining_colors)\n",
    "        if remaining_colors == set([]):\n",
    "            new_color = len(color_set)\n",
    "            color_set|=set([new_color])\n",
    "            colors[n]=new_color\n",
    "            #print 'remaining_colors is empty add new color : node %d color %d'%(n, colors[n])\n",
    "        else:\n",
    "            colors[n] = min(remaining_colors)\n",
    "            #print 'using an existing color : node %d color %d'%(n, colors[n])\n",
    "        \n",
    "    return colors, len(color_set)"
   ]
  },
  {
   "cell_type": "code",
   "execution_count": 196,
   "metadata": {
    "collapsed": true
   },
   "outputs": [],
   "source": [
    "def compute_voisins(filename):\n",
    "    data = pd.read_csv(filename,sep=' ')\n",
    "    node_count = int(data.columns[0])\n",
    "    edge_count = int(data.columns[1])\n",
    "    data = data.rename(columns={data.columns[0]:'from',data.columns[1]:'to'})\n",
    "    voisins1 = data.groupby('from').apply(lambda x: set(x['to'].values))\n",
    "    voisins1 = voisins1.loc[range(node_count)].apply(lambda x:  set() if type(x) is not set else x)\n",
    "    voisins2 = data.groupby('to').apply(lambda x: set(x['from'].values))\n",
    "    voisins2 = voisins2.loc[range(node_count)].apply(lambda x:  set() if type(x) is not set else x)\n",
    "    voisins = pd.DataFrame([voisins1,voisins2],index=['c1','c2']).apply(lambda x: x['c1']|x['c2'])\n",
    "    return node_count, edge_count, voisins"
   ]
  },
  {
   "cell_type": "code",
   "execution_count": 197,
   "metadata": {
    "collapsed": true
   },
   "outputs": [],
   "source": [
    "filename = './data/gc_70_7'\n",
    "node_count, edge_count, voisins=compute_voisins(filename)"
   ]
  },
  {
   "cell_type": "code",
   "execution_count": 183,
   "metadata": {
    "collapsed": true
   },
   "outputs": [],
   "source": [
    "def swap(idx,pos1,pos2):\n",
    "    tmp = idx[pos2]\n",
    "    idx[pos2]=idx[pos1]\n",
    "    idx[pos1]=tmp"
   ]
  },
  {
   "cell_type": "code",
   "execution_count": 193,
   "metadata": {},
   "outputs": [],
   "source": [
    "def graph_color_backtrack(node_count, voisins, max_level = None, deepness = None, idx = None, level = 0):\n",
    "    if max_level is None:\n",
    "        max_level = node_count\n",
    "    if deepness is None:\n",
    "        deepness = node_count\n",
    "    if idx is None:\n",
    "        voisins_count=voisins.map(len).sort_values(ascending=False)\n",
    "        idx = voisins_count.index.tolist()\n",
    "    min_colors, min_nb_colors = graph_color(node_count,voisins.loc[idx])\n",
    "    print level, min_nb_colors\n",
    "    for pos in range(level+1, deepness):\n",
    "        swap(idx,level, pos)\n",
    "        colors, nb_colors = graph_color(node_count,voisins.loc[idx])\n",
    "        if (nb_colors < min_nb_colors) & (level+1<max_level):\n",
    "            print level, nb_colors, pos\n",
    "            min_colors, min_nb_colors = graph_color_backtrack(node_count, voisins, max_level, deepness, idx, level+1)\n",
    "    \n",
    "    return min_colors, min_nb_colors"
   ]
  },
  {
   "cell_type": "code",
   "execution_count": 194,
   "metadata": {},
   "outputs": [
    {
     "data": {
      "text/plain": [
       "22"
      ]
     },
     "execution_count": 194,
     "metadata": {},
     "output_type": "execute_result"
    }
   ],
   "source": [
    "colors, nb_colors = graph_color(node_count,voisins.loc[idx])\n",
    "nb_colors"
   ]
  },
  {
   "cell_type": "code",
   "execution_count": 195,
   "metadata": {},
   "outputs": [
    {
     "name": "stdout",
     "output_type": "stream",
     "text": [
      "0 22\n",
      "0 21 5\n",
      "1 21\n",
      "1 20 16\n",
      "2 20\n"
     ]
    },
    {
     "data": {
      "text/plain": [
       "20"
      ]
     },
     "execution_count": 195,
     "metadata": {},
     "output_type": "execute_result"
    }
   ],
   "source": [
    "colors, nb_colors = graph_color_backtrack(node_count,voisins)\n",
    "nb_colors"
   ]
  },
  {
   "cell_type": "code",
   "execution_count": null,
   "metadata": {
    "collapsed": true
   },
   "outputs": [],
   "source": []
  },
  {
   "cell_type": "code",
   "execution_count": 187,
   "metadata": {
    "collapsed": true
   },
   "outputs": [],
   "source": [
    "f = open(filename.replace('data','out'),'w')\n",
    "f.write(output_data)\n",
    "f.close()"
   ]
  }
 ],
 "metadata": {
  "kernelspec": {
   "display_name": "Python 2",
   "language": "python",
   "name": "python2"
  },
  "language_info": {
   "codemirror_mode": {
    "name": "ipython",
    "version": 2
   },
   "file_extension": ".py",
   "mimetype": "text/x-python",
   "name": "python",
   "nbconvert_exporter": "python",
   "pygments_lexer": "ipython2",
   "version": "2.7.13"
  }
 },
 "nbformat": 4,
 "nbformat_minor": 2
}
