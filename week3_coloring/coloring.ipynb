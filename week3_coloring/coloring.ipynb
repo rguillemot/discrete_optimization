{
 "cells": [
  {
   "cell_type": "code",
   "execution_count": 1,
   "metadata": {
    "collapsed": true
   },
   "outputs": [],
   "source": [
    "import pandas as pd"
   ]
  },
  {
   "cell_type": "code",
   "execution_count": 148,
   "metadata": {},
   "outputs": [],
   "source": [
    "data = pd.read_csv('./data/gc_20_9',sep=' ')\n",
    "node_count = int(data.columns[0])\n",
    "edge_count = int(data.columns[1])\n",
    "data = data.rename(columns={data.columns[0]:'from',data.columns[1]:'to'})"
   ]
  },
  {
   "cell_type": "code",
   "execution_count": 149,
   "metadata": {},
   "outputs": [],
   "source": [
    "voisins = data.groupby('from').apply(lambda x: set(x['to'].values))\n",
    "voisins = voisins.loc[range(node_count)].apply(lambda x:  set() if type(x) is not set else x)"
   ]
  },
  {
   "cell_type": "code",
   "execution_count": 150,
   "metadata": {},
   "outputs": [],
   "source": [
    "idx = voisins.apply(lambda x: len(x)).sort_values(ascending=False).index"
   ]
  },
  {
   "cell_type": "code",
   "execution_count": 151,
   "metadata": {},
   "outputs": [],
   "source": [
    "def graph_coloring_v1(nodes, voisins, rank_nodes, visited_nodes = set(), rank = 0):\n",
    "    if nodes == set():\n",
    "        return visited_nodes, rank_nodes\n",
    "    for n in nodes:\n",
    "        if n not in visited_nodes:\n",
    "            #print 'node %d rank %d'%(n,rank)\n",
    "            rank_nodes[n]=rank\n",
    "            visited_nodes |= set([n])\n",
    "        adj_nodes = voisins[n]-visited_nodes\n",
    "        for n2 in adj_nodes:\n",
    "            #print 'node %d rank %d'%(n2,rank+1)\n",
    "            rank_nodes[n2]=rank+1\n",
    "        visited_nodes |= set(adj_nodes)\n",
    "        visited_nodes, rank_nodes = graph_coloring_v1(adj_nodes, \n",
    "                                                      voisins, \n",
    "                                                      rank_nodes, \n",
    "                                                      visited_nodes, \n",
    "                                                      rank + 1)\n",
    "    \n",
    "    #print rank_nodes\n",
    "\n",
    "    return visited_nodes, rank_nodes"
   ]
  },
  {
   "cell_type": "code",
   "execution_count": 152,
   "metadata": {},
   "outputs": [],
   "source": [
    "nodes = voisins.index.tolist()\n",
    "rank_nodes = [-1]*node_count\n",
    "visited_nodes, rank_nodes = graph_coloring_v1(nodes,voisins,rank_nodes)"
   ]
  },
  {
   "cell_type": "code",
   "execution_count": 153,
   "metadata": {},
   "outputs": [
    {
     "data": {
      "text/plain": [
       "[0, 1, 1, 1, 2, 1, 1, 1, 1, 1, 1, 1, 1, 1, 1, 1, 1, 1, 1, 1]"
      ]
     },
     "execution_count": 153,
     "metadata": {},
     "output_type": "execute_result"
    }
   ],
   "source": [
    "rank_nodes"
   ]
  },
  {
   "cell_type": "code",
   "execution_count": 162,
   "metadata": {},
   "outputs": [
    {
     "data": {
      "text/plain": [
       "{5, 6, 7, 9, 10, 11, 13, 14, 15, 16, 17, 18, 19}"
      ]
     },
     "execution_count": 162,
     "metadata": {},
     "output_type": "execute_result"
    }
   ],
   "source": [
    "voisins[4]"
   ]
  }
 ],
 "metadata": {
  "kernelspec": {
   "display_name": "Python 2",
   "language": "python",
   "name": "python2"
  },
  "language_info": {
   "codemirror_mode": {
    "name": "ipython",
    "version": 2
   },
   "file_extension": ".py",
   "mimetype": "text/x-python",
   "name": "python",
   "nbconvert_exporter": "python",
   "pygments_lexer": "ipython2",
   "version": "2.7.13"
  }
 },
 "nbformat": 4,
 "nbformat_minor": 2
}
