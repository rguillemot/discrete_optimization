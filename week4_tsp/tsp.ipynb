{
 "cells": [
  {
   "cell_type": "code",
   "execution_count": 1,
   "metadata": {
    "collapsed": true
   },
   "outputs": [],
   "source": [
    "import pandas as pd\n",
    "import numpy as np"
   ]
  },
  {
   "cell_type": "code",
   "execution_count": 2,
   "metadata": {
    "collapsed": true
   },
   "outputs": [],
   "source": [
    "def load_data(filename):\n",
    "    data = pd.read_csv(filename,sep=' ').reset_index()\n",
    "    data = data.rename(columns={data.columns[0]:'x', data.columns[1]:'y'})\n",
    "    return data"
   ]
  },
  {
   "cell_type": "code",
   "execution_count": 3,
   "metadata": {
    "collapsed": true
   },
   "outputs": [],
   "source": [
    "def dist2(p1,p2):\n",
    "    return (p1['x']-p2['x'])**2 + (p1['y']-p2['y'])**2"
   ]
  },
  {
   "cell_type": "code",
   "execution_count": 4,
   "metadata": {
    "collapsed": true
   },
   "outputs": [],
   "source": [
    "def dist(p1,p2):\n",
    "    return np.sqrt(dist2(p1,p2))"
   ]
  },
  {
   "cell_type": "code",
   "execution_count": 5,
   "metadata": {
    "collapsed": true
   },
   "outputs": [],
   "source": [
    "def closest_point(visited_point, data):\n",
    "    p0 = data.loc[visited_point[-1]]\n",
    "    return data.loc[~data.index.isin(visited_point)].apply(\n",
    "        lambda p: dist2(p,p0),\n",
    "        axis=1\n",
    "    ).argmin()"
   ]
  },
  {
   "cell_type": "code",
   "execution_count": 40,
   "metadata": {
    "collapsed": true
   },
   "outputs": [],
   "source": [
    "def tsp_simple(data):\n",
    "    sol = [data.index[0]]\n",
    "    while len(sol) < len(data):\n",
    "        sol += [closest_point(sol,data)]\n",
    "    return sol"
   ]
  },
  {
   "cell_type": "code",
   "execution_count": 57,
   "metadata": {},
   "outputs": [],
   "source": [
    "def tsp_simple_fast(data,closest_matrix):\n",
    "    sol = [data.index[0]]\n",
    "    while len(sol) < len(data):\n",
    "        last = sol[-1]\n",
    "        sol += [closest_matrix[last][~closest_matrix[last].isin(sol)].values[0]]\n",
    "    return sol"
   ]
  },
  {
   "cell_type": "code",
   "execution_count": 8,
   "metadata": {
    "collapsed": true
   },
   "outputs": [],
   "source": [
    "def objective(sol, data):\n",
    "    return sum([dist(data.loc[p1],data.loc[p2]) for p1, p2 in zip(sol,sol[1:]+[sol[0]])])  "
   ]
  },
  {
   "cell_type": "code",
   "execution_count": 9,
   "metadata": {
    "collapsed": true
   },
   "outputs": [],
   "source": [
    "def objective2_vec(sol, data):\n",
    "    return [dist2(data.loc[p1],data.loc[p2]) for p1, p2 in zip(sol,sol[1:]+[sol[0]])] "
   ]
  },
  {
   "cell_type": "code",
   "execution_count": 10,
   "metadata": {
    "collapsed": true
   },
   "outputs": [],
   "source": [
    "def objective2(sol, data):\n",
    "    return sum(objective2_vec(sol, data))  "
   ]
  },
  {
   "cell_type": "code",
   "execution_count": 11,
   "metadata": {
    "collapsed": true
   },
   "outputs": [],
   "source": [
    "def save_sol(sol, data, filename):\n",
    "    obj = objective(sol,data)\n",
    "    output_data = str(obj) + ' ' + str(0) + '\\n'\n",
    "    output_data += ' '.join(map(str, sol))\n",
    "    f = open(filename.replace('data','out'),'w')\n",
    "    f.write(output_data)\n",
    "    f.close()"
   ]
  },
  {
   "cell_type": "code",
   "execution_count": 12,
   "metadata": {
    "collapsed": true
   },
   "outputs": [],
   "source": [
    "def shift(seq, n):\n",
    "    return seq[n:]+seq[:n]"
   ]
  },
  {
   "cell_type": "code",
   "execution_count": 13,
   "metadata": {
    "collapsed": true
   },
   "outputs": [],
   "source": [
    "def swap_tsp_2(sol, p1, p2):\n",
    "    pos1 = sol.index(p1)\n",
    "    shift_sol = shift(sol,pos1)\n",
    "    pos2 = shift_sol.index(p2)\n",
    "    res_sol = shift_sol[:pos2]+shift_sol[pos2:][::-1]\n",
    "    return shift(res_sol,len(sol)-pos1)"
   ]
  },
  {
   "cell_type": "code",
   "execution_count": 14,
   "metadata": {
    "collapsed": true
   },
   "outputs": [],
   "source": [
    "def objective_swap(sol, obj, p1 ,p2, data):\n",
    "    pos1 = sol.index(p1)\n",
    "    pos2 = sol.index(p2)\n",
    "    p1_next = sol[pos1-1]\n",
    "    p2_next = sol[pos2-1]\n",
    "    dp1 = data.loc[p1]\n",
    "    dp2 = data.loc[p2]\n",
    "    dp1_next = data.loc[p1_next]\n",
    "    dp2_next = data.loc[p2_next]\n",
    "    return obj - dist2(dp1,dp1_next) - dist2(dp2,dp2_next) + dist2(dp1,dp2) + dist2(dp1_next,dp2_next)"
   ]
  },
  {
   "cell_type": "code",
   "execution_count": 15,
   "metadata": {
    "collapsed": true
   },
   "outputs": [],
   "source": [
    "def objective_vec_swap(sol, obj_vec, p1 ,p2, data):\n",
    "    pos1 = sol.index(p1)\n",
    "    shift_sol = shift(sol,pos1)\n",
    "    shift_obj_vec = shift(obj_vec,pos1)\n",
    "    pos2 = shift_sol.index(p2)\n",
    "    res_obj_vec = shift_obj_vec[:pos2]+ (shift_obj_vec[pos2:][::-1][1:]+[0])\n",
    "    p1_next = sol[pos1-1]\n",
    "    p2_next = shift_sol[pos2-1]\n",
    "    dp1 = data.loc[p1]\n",
    "    dp2 = data.loc[p2]\n",
    "    dp1_next = data.loc[p1_next]\n",
    "    dp2_next = data.loc[p2_next]\n",
    "    res_obj_vec[pos2-1]=dist2(dp1_next,dp2_next)\n",
    "    res_obj_vec[-1]=dist2(dp1,dp2)\n",
    "    return shift(res_obj_vec,len(sol)-pos1)"
   ]
  },
  {
   "cell_type": "code",
   "execution_count": 16,
   "metadata": {},
   "outputs": [],
   "source": [
    "def local_search(\n",
    "    data,\n",
    "    max_trials,\n",
    "    start_sol,\n",
    "    start_obj_vec,\n",
    "    closest_matrix,\n",
    "    first_closest=None):\n",
    "    \n",
    "    size = len(start_sol)\n",
    "    cur_sol = start_sol\n",
    "    cur_obj_vec = start_obj_vec\n",
    "    cur_obj = sum(cur_obj_vec)\n",
    "    opt_sol = start_sol\n",
    "    opt_obj_vec = cur_obj_vec\n",
    "    opt_obj = cur_obj\n",
    "    \n",
    "    it = 0\n",
    "    while (it < max_trials):\n",
    "        order_points = pd.Series(cur_obj_vec).sort_values(ascending=False).index\n",
    "        found = False\n",
    "        max_trials_reached = False\n",
    "        for p1 in order_points:\n",
    "            for idx2 in closest_matrix[p1].index[1:first_closest if first_closest is not None else size]:\n",
    "                if it >= max_trials:\n",
    "                    max_trials_reached = True\n",
    "                    break\n",
    "                else:\n",
    "                    it+=1\n",
    "                p2 = closest_matrix[p1][idx2]\n",
    "                #print 'try (%d %d)'%(p1,p2)\n",
    "                new_obj = objective_swap(cur_sol, cur_obj, p1, p2, data)\n",
    "                if new_obj < opt_obj:\n",
    "                    cur_obj_vec = objective_vec_swap(cur_sol,cur_obj_vec,p1,p2,data)\n",
    "                    cur_obj = sum(cur_obj_vec)\n",
    "                    cur_sol = swap_tsp_2(cur_sol,p1,p2)\n",
    "                    #print 'it %d order %d closest rank %d swap (%d %d) obj2 %f obj: %f'%(it,order_points.get_loc(p1),idx2, p1,p2,cur_obj,sum(map(np.sqrt,cur_obj_vec)))\n",
    "                    opt_sol = cur_sol\n",
    "                    opt_obj_vec = cur_obj_vec\n",
    "                    opt_obj = sum(cur_obj_vec)\n",
    "                    found = True\n",
    "                    break\n",
    "            if found or max_trials_reached:\n",
    "                break\n",
    "    return sum(map(np.sqrt,opt_obj_vec)), opt_sol "
   ]
  },
  {
   "cell_type": "code",
   "execution_count": 17,
   "metadata": {
    "collapsed": true
   },
   "outputs": [],
   "source": [
    "from datetime import datetime"
   ]
  },
  {
   "cell_type": "code",
   "execution_count": 18,
   "metadata": {
    "collapsed": true
   },
   "outputs": [],
   "source": [
    "def dist_matrix_calc(data):\n",
    "    data_x = np.repeat(data['x'].values,len(data)).reshape((len(data),len(data)))\n",
    "    data_y = np.repeat(data['y'].values,len(data)).reshape((len(data),len(data)))\n",
    "    return pd.DataFrame((data_x-data_x.T)*(data_x-data_x.T)+(data_y-data_y.T)*(data_y-data_y.T))"
   ]
  },
  {
   "cell_type": "code",
   "execution_count": 27,
   "metadata": {
    "collapsed": true
   },
   "outputs": [],
   "source": [
    "def closest_matrix_calc_step(data, start_idx, end_idx, first_closest):\n",
    "    data_x = data.x.values\n",
    "    data_y = data.y.values\n",
    "    data_x_1 = np.repeat(data_x,end_idx-start_idx).reshape(len(data),end_idx-start_idx)\n",
    "    data_x_2 = np.repeat(data_x[start_idx:end_idx],len(data)).reshape((end_idx-start_idx,len(data))).T\n",
    "    data_y_1 = np.repeat(data_y,end_idx-start_idx).reshape(len(data),end_idx-start_idx)\n",
    "    data_y_2 = np.repeat(data_y[start_idx:end_idx],len(data)).reshape((end_idx-start_idx,len(data))).T\n",
    "    dist_matrix = pd.DataFrame((data_x_2-data_x_1)*(data_x_2-data_x_1)\n",
    "                               +(data_y_2-data_y_1)*(data_y_2-data_y_1),\n",
    "                              columns=range(start_idx,end_idx))\n",
    "    return pd.DataFrame([dist_matrix[c].nsmallest(first_closest).index for c in dist_matrix.columns])"
   ]
  },
  {
   "cell_type": "code",
   "execution_count": 20,
   "metadata": {
    "collapsed": true
   },
   "outputs": [],
   "source": [
    "def closest_matrix_calc(data, first_closest, step=100):\n",
    "    steps = range(0,len(data),step)+[len(data)]\n",
    "    return pd.concat([closest_matrix_calc_step(data,start_idx,end_idx,first_closest) \n",
    "               for (start_idx, end_idx) in zip(steps[:-1],steps[1:])],axis=1)"
   ]
  },
  {
   "cell_type": "code",
   "execution_count": 21,
   "metadata": {},
   "outputs": [],
   "source": [
    "def solve_tsp(filename,max_trials, first_closest, closest_matrix=None, calc_first_closest=1000, step=1000):\n",
    "    data = load_data(filename)\n",
    "    start_time = datetime.now()\n",
    "    if closest_matrix is None:\n",
    "        closest_matrix = closest_matrix_calc(data,calc_first_closest,step)\n",
    "    closest_matrix_time = datetime.now()\n",
    "    print 'closest_matrix time : %d'%((closest_matrix_time-start_time).seconds)\n",
    "    sol_step0 = tsp_simple_fast(data,closest_matrix)\n",
    "    start_sol_time = datetime.now()\n",
    "    print 'start sol time : %d'%((start_sol_time-closest_matrix_time).seconds)\n",
    "    obj_vec = objective2_vec(sol_step0,data)\n",
    "    opt_obj, opt_sol = local_search(data,max_trials,sol_step0,obj_vec,closest_matrix,first_closest)\n",
    "    start_local_search_time = datetime.now()\n",
    "    print 'local_search time : %d'%((start_local_search_time-start_sol_time).seconds)\n",
    "    return opt_obj, opt_sol"
   ]
  },
  {
   "cell_type": "code",
   "execution_count": 22,
   "metadata": {
    "collapsed": true
   },
   "outputs": [],
   "source": [
    "PbFilename1 = r'./data/tsp_51_1'\n",
    "PbFilename2 = r'./data/tsp_100_3'\n",
    "PbFilename3 = r'./data/tsp_200_2'\n",
    "PbFilename4 = r'./data/tsp_574_1'\n",
    "PbFilename5 = r'./data/tsp_1889_1'\n",
    "PbFilename6 = r'./data/tsp_33810_1'"
   ]
  },
  {
   "cell_type": "code",
   "execution_count": 71,
   "metadata": {
    "collapsed": true
   },
   "outputs": [],
   "source": [
    "data = load_data(PbFilename2)"
   ]
  },
  {
   "cell_type": "code",
   "execution_count": 53,
   "metadata": {},
   "outputs": [
    {
     "name": "stdout",
     "output_type": "stream",
     "text": [
      "Wall time: 15.6 s\n"
     ]
    }
   ],
   "source": [
    "%time closest_matrix = closest_matrix_calc(data,len(data),len(data))"
   ]
  },
  {
   "cell_type": "code",
   "execution_count": 72,
   "metadata": {},
   "outputs": [
    {
     "name": "stdout",
     "output_type": "stream",
     "text": [
      "closest_matrix time : 0\n",
      "start sol time : 0\n",
      "local_search time : 35\n",
      "35014.0184854\n"
     ]
    }
   ],
   "source": [
    "opt_obj, opt_sol = solve_tsp(PbFilename2,10000,10,None,len(data),len(data))\n",
    "save_sol(opt_sol,data,PbFilename2)\n",
    "print opt_obj"
   ]
  }
 ],
 "metadata": {
  "kernelspec": {
   "display_name": "Python 2",
   "language": "python",
   "name": "python2"
  },
  "language_info": {
   "codemirror_mode": {
    "name": "ipython",
    "version": 2
   },
   "file_extension": ".py",
   "mimetype": "text/x-python",
   "name": "python",
   "nbconvert_exporter": "python",
   "pygments_lexer": "ipython2",
   "version": "2.7.13"
  }
 },
 "nbformat": 4,
 "nbformat_minor": 2
}
