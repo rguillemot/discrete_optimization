{
 "cells": [
  {
   "cell_type": "code",
   "execution_count": 83,
   "metadata": {
    "collapsed": true
   },
   "outputs": [],
   "source": [
    "import pandas as pd\n",
    "import numpy as np\n",
    "from scipy.spatial import KDTree\n",
    "from tqdm import tqdm_notebook, tqdm"
   ]
  },
  {
   "cell_type": "code",
   "execution_count": 2,
   "metadata": {
    "collapsed": true
   },
   "outputs": [],
   "source": [
    "def load_data(filename):\n",
    "    data = pd.read_csv(filename,sep=' ').reset_index()\n",
    "    data = data.rename(columns={data.columns[0]:'x', data.columns[1]:'y'})\n",
    "    return data"
   ]
  },
  {
   "cell_type": "code",
   "execution_count": 3,
   "metadata": {
    "collapsed": true
   },
   "outputs": [],
   "source": [
    "def dist2(p1,p2):\n",
    "    return (p1['x']-p2['x'])**2 + (p1['y']-p2['y'])**2"
   ]
  },
  {
   "cell_type": "code",
   "execution_count": 4,
   "metadata": {
    "collapsed": true
   },
   "outputs": [],
   "source": [
    "def dist(p1,p2):\n",
    "    return np.sqrt(dist2(p1,p2))"
   ]
  },
  {
   "cell_type": "code",
   "execution_count": 5,
   "metadata": {
    "collapsed": true
   },
   "outputs": [],
   "source": [
    "def closest_point(visited_point, data):\n",
    "    p0 = data.loc[visited_point[-1]]\n",
    "    return data.loc[~data.index.isin(visited_point)].apply(\n",
    "        lambda p: dist2(p,p0),\n",
    "        axis=1\n",
    "    ).argmin()"
   ]
  },
  {
   "cell_type": "code",
   "execution_count": 6,
   "metadata": {
    "collapsed": true
   },
   "outputs": [],
   "source": [
    "def tsp_simple(data):\n",
    "    sol = [data.index[0]]\n",
    "    while len(sol) < len(data):\n",
    "        sol += [closest_point(sol,data)]\n",
    "    return sol"
   ]
  },
  {
   "cell_type": "code",
   "execution_count": 7,
   "metadata": {
    "collapsed": true
   },
   "outputs": [],
   "source": [
    "def tsp_simple_fast(data,closest_matrix):\n",
    "    sol = [data.index[0]]\n",
    "    remainings = set(range(len(data)))\n",
    "    while len(sol) < len(data):\n",
    "        last = sol[-1]\n",
    "        if len(closest_matrix[last][~closest_matrix[last].isin(sol)])>0:\n",
    "            sol += [closest_matrix[last][~closest_matrix[last].isin(sol)].values[0]]\n",
    "        else:\n",
    "            sol += [np.random.choice(list(remainings))] \n",
    "        remainings -= set([sol[-1]])\n",
    "    return sol"
   ]
  },
  {
   "cell_type": "code",
   "execution_count": 8,
   "metadata": {
    "collapsed": true
   },
   "outputs": [],
   "source": [
    "def objective(sol, data):\n",
    "    return sum([dist(data.loc[p1],data.loc[p2]) for p1, p2 in zip(sol,sol[1:]+[sol[0]])])  "
   ]
  },
  {
   "cell_type": "code",
   "execution_count": 9,
   "metadata": {
    "collapsed": true
   },
   "outputs": [],
   "source": [
    "def objective2_vec(sol, data):\n",
    "    return [dist2(data.loc[p1],data.loc[p2]) for p1, p2 in zip(sol,sol[1:]+[sol[0]])] "
   ]
  },
  {
   "cell_type": "code",
   "execution_count": 79,
   "metadata": {},
   "outputs": [],
   "source": [
    "def objective2_vec_fast(sol, data):\n",
    "    return map(lambda x: x[0]**2+x[1]**2,data.loc[sol].values-data.loc[shift(sol,1)].values)"
   ]
  },
  {
   "cell_type": "code",
   "execution_count": 80,
   "metadata": {
    "collapsed": true
   },
   "outputs": [],
   "source": [
    "def objective_fast(sol, data):\n",
    "    return np.sqrt(sum(objective2_vec_fast(sol, data)))  "
   ]
  },
  {
   "cell_type": "code",
   "execution_count": 11,
   "metadata": {
    "collapsed": true
   },
   "outputs": [],
   "source": [
    "def save_sol(sol, filename):\n",
    "    data = load_data(filename)\n",
    "    obj = objective(sol,data)\n",
    "    output_data = str(obj) + ' ' + str(0) + '\\n'\n",
    "    output_data += ' '.join(map(str, sol))\n",
    "    f = open(filename.replace('data','out'),'w')\n",
    "    f.write(output_data)\n",
    "    f.close()"
   ]
  },
  {
   "cell_type": "code",
   "execution_count": 12,
   "metadata": {
    "collapsed": true
   },
   "outputs": [],
   "source": [
    "def shift(seq, n):\n",
    "    return seq[n:]+seq[:n]"
   ]
  },
  {
   "cell_type": "code",
   "execution_count": 13,
   "metadata": {
    "collapsed": true
   },
   "outputs": [],
   "source": [
    "def swap_tsp_2(sol, p1, p2):\n",
    "    pos1 = sol.index(p1)\n",
    "    shift_sol = shift(sol,pos1)\n",
    "    pos2 = shift_sol.index(p2)\n",
    "    res_sol = shift_sol[:pos2]+shift_sol[pos2:][::-1]\n",
    "    return shift(res_sol,len(sol)-pos1)"
   ]
  },
  {
   "cell_type": "code",
   "execution_count": 14,
   "metadata": {
    "collapsed": true
   },
   "outputs": [],
   "source": [
    "def objective_swap(sol, obj, p1 ,p2, data):\n",
    "    pos1 = sol.index(p1)\n",
    "    pos2 = sol.index(p2)\n",
    "    p1_next = sol[pos1-1]\n",
    "    p2_next = sol[pos2-1]\n",
    "    dp1 = data.loc[p1]\n",
    "    dp2 = data.loc[p2]\n",
    "    dp1_next = data.loc[p1_next]\n",
    "    dp2_next = data.loc[p2_next]\n",
    "    return obj - dist2(dp1,dp1_next) - dist2(dp2,dp2_next) + dist2(dp1,dp2) + dist2(dp1_next,dp2_next)"
   ]
  },
  {
   "cell_type": "code",
   "execution_count": 15,
   "metadata": {
    "collapsed": true
   },
   "outputs": [],
   "source": [
    "def objective_vec_swap(sol, obj_vec, p1 ,p2, data):\n",
    "    pos1 = sol.index(p1)\n",
    "    shift_sol = shift(sol,pos1)\n",
    "    shift_obj_vec = shift(obj_vec,pos1)\n",
    "    pos2 = shift_sol.index(p2)\n",
    "    res_obj_vec = shift_obj_vec[:pos2]+ (shift_obj_vec[pos2:][::-1][1:]+[0])\n",
    "    p1_next = sol[pos1-1]\n",
    "    p2_next = shift_sol[pos2-1]\n",
    "    dp1 = data.loc[p1]\n",
    "    dp2 = data.loc[p2]\n",
    "    dp1_next = data.loc[p1_next]\n",
    "    dp2_next = data.loc[p2_next]\n",
    "    res_obj_vec[pos2-1]=dist2(dp1_next,dp2_next)\n",
    "    res_obj_vec[-1]=dist2(dp1,dp2)\n",
    "    return shift(res_obj_vec,len(sol)-pos1)"
   ]
  },
  {
   "cell_type": "code",
   "execution_count": 16,
   "metadata": {
    "collapsed": true
   },
   "outputs": [],
   "source": [
    "from collections import deque"
   ]
  },
  {
   "cell_type": "code",
   "execution_count": 17,
   "metadata": {
    "collapsed": true
   },
   "outputs": [],
   "source": [
    "def local_search(\n",
    "    data,\n",
    "    max_trials,\n",
    "    start_sol,\n",
    "    start_obj_vec,\n",
    "    closest_matrix,\n",
    "    first_closest=None,\n",
    "    tabu_flag = False,\n",
    "    tabu_frac=1.0,\n",
    "    tabu_size=1000):\n",
    "\n",
    "    size = len(start_sol)\n",
    "    tabu_size = int(tabu_frac*size)\n",
    "    cur_sol = start_sol\n",
    "    cur_obj_vec = start_obj_vec\n",
    "    cur_obj = sum(cur_obj_vec)\n",
    "    opt_sol = start_sol\n",
    "    opt_obj_vec = cur_obj_vec\n",
    "    opt_obj = cur_obj\n",
    "\n",
    "    tabu_list = deque([])\n",
    "    it = 0\n",
    "    print 'it 0 obj: %f'%(sum(map(np.sqrt,cur_obj_vec)))\n",
    "    while (it < max_trials):\n",
    "        order_points = pd.Series(cur_obj_vec).sort_values(ascending=False).index\n",
    "        max_trials_reached = False\n",
    "        local_opt_sol = None\n",
    "        local_opt_obj_vec = None\n",
    "        local_opt_obj = None\n",
    "        for p1 in order_points[:first_closest]:\n",
    "            for idx2 in closest_matrix[p1].index[1:first_closest if first_closest is not None else size]:\n",
    "                if it >= max_trials:\n",
    "                    max_trials_reached = True\n",
    "                    break\n",
    "                else:\n",
    "                    it+=1\n",
    "                p2 = closest_matrix[p1][idx2]\n",
    "                #print 'try (%d %d)'%(p1,p2)\n",
    "                new_obj = objective_swap(cur_sol, cur_obj, p1, p2, data)         \n",
    "                if (local_opt_sol is None) or (new_obj < local_opt_obj):\n",
    "                    tmp_obj_vec = objective_vec_swap(cur_sol,cur_obj_vec,p1,p2,data) \n",
    "                    tabu_check = pd.Series(tmp_obj_vec).sort_values(ascending=False).values[:tabu_size].tolist()\n",
    "                    if (tabu_flag and tabu_check not in tabu_list)  or \\\n",
    "                    not tabu_flag:\n",
    "                        if local_opt_sol is None:\n",
    "                            print 'it %d init order %d closest rank %d swap (%d %d) obj: %f'%(it, order_points.get_loc(p1),idx2, p1,p2,sum(map(np.sqrt,tmp_obj_vec)))\n",
    "                        else:\n",
    "                            print 'it %d order %d closest rank %d swap (%d %d) obj: %f'%(it, order_points.get_loc(p1),idx2, p1,p2,sum(map(np.sqrt,tmp_obj_vec)))\n",
    "                        local_opt_sol = swap_tsp_2(cur_sol,p1,p2)\n",
    "                        local_opt_obj_vec = tmp_obj_vec\n",
    "                        local_opt_obj = new_obj\n",
    "                        tabu_list.appendleft([pd.Series(local_opt_obj_vec).sort_values(ascending=False).values[:tabu_size].tolist()])\n",
    "            if max_trials_reached:\n",
    "                break\n",
    "        while (len(tabu_list)>tabu_size):\n",
    "            #print 'empty tabu list'\n",
    "            tabu_list.pop()\n",
    "        cur_sol = local_opt_sol\n",
    "        cur_obj_vec = local_opt_obj_vec\n",
    "        cur_obj = local_opt_obj\n",
    "        if local_opt_obj < opt_obj:\n",
    "            opt_sol[:] = local_opt_sol\n",
    "            opt_obj_vec[:] = local_opt_obj_vec\n",
    "            opt_obj = local_opt_obj\n",
    "            print 'it %d obj: %f'%(it,sum(map(np.sqrt,opt_obj_vec)))\n",
    "    return sum(map(np.sqrt,opt_obj_vec)), opt_sol"
   ]
  },
  {
   "cell_type": "code",
   "execution_count": 18,
   "metadata": {
    "collapsed": true
   },
   "outputs": [],
   "source": [
    "from datetime import datetime"
   ]
  },
  {
   "cell_type": "code",
   "execution_count": 19,
   "metadata": {
    "collapsed": true
   },
   "outputs": [],
   "source": [
    "def dist_matrix_calc(data):\n",
    "    data_x = np.repeat(data['x'].values,len(data)).reshape((len(data),len(data)))\n",
    "    data_y = np.repeat(data['y'].values,len(data)).reshape((len(data),len(data)))\n",
    "    return pd.DataFrame((data_x-data_x.T)*(data_x-data_x.T)+(data_y-data_y.T)*(data_y-data_y.T))"
   ]
  },
  {
   "cell_type": "code",
   "execution_count": 20,
   "metadata": {
    "collapsed": true
   },
   "outputs": [],
   "source": [
    "def closest_matrix_calc_step(data, start_idx, end_idx, first_closest):\n",
    "    data_x = data.x.values\n",
    "    data_y = data.y.values\n",
    "    data_x_1 = np.repeat(data_x,end_idx-start_idx).reshape(len(data),end_idx-start_idx)\n",
    "    data_x_2 = np.repeat(data_x[start_idx:end_idx],len(data)).reshape((end_idx-start_idx,len(data))).T\n",
    "    data_y_1 = np.repeat(data_y,end_idx-start_idx).reshape(len(data),end_idx-start_idx)\n",
    "    data_y_2 = np.repeat(data_y[start_idx:end_idx],len(data)).reshape((end_idx-start_idx,len(data))).T\n",
    "    dist_matrix = pd.DataFrame((data_x_2-data_x_1)*(data_x_2-data_x_1)\n",
    "                               +(data_y_2-data_y_1)*(data_y_2-data_y_1),\n",
    "                              columns=range(start_idx,end_idx))\n",
    "    return pd.DataFrame([dist_matrix[c].nsmallest(first_closest).index for c in dist_matrix.columns],\n",
    "                        index=range(start_idx, end_idx)).T"
   ]
  },
  {
   "cell_type": "code",
   "execution_count": 21,
   "metadata": {
    "collapsed": true
   },
   "outputs": [],
   "source": [
    "def closest_matrix_calc(data, first_closest, step=100):\n",
    "    steps = range(0,len(data),step)+[len(data)]\n",
    "    return pd.concat([closest_matrix_calc_step(data,start_idx,end_idx,first_closest) \n",
    "               for (start_idx, end_idx) in zip(steps[:-1],steps[1:])],axis=1)"
   ]
  },
  {
   "cell_type": "code",
   "execution_count": 22,
   "metadata": {
    "collapsed": true
   },
   "outputs": [],
   "source": [
    "def solve_tsp(filename,max_trials,\n",
    "              first_closest,\n",
    "              tabu_flag = False,\n",
    "              tabu_frac = 1.0,\n",
    "              tabu_size= 1000,\n",
    "              closest_matrix=None,\n",
    "              calc_first_closest=1000,\n",
    "              simple_fast_flag = True):\n",
    "    data = load_data(filename)\n",
    "    start_time = datetime.now()\n",
    "    if closest_matrix is None:\n",
    "        closest_matrix = closest_matrix_calc_kd(data,calc_first_closest)\n",
    "    closest_matrix_time = datetime.now()\n",
    "    print 'closest_matrix time : %d'%((closest_matrix_time-start_time).seconds)\n",
    "    if simple_fast_flag:\n",
    "        sol_step0 = tsp_simple_fast(data,closest_matrix)\n",
    "    else:\n",
    "        sol_step0 = tsp_simple(data)\n",
    "    start_sol_time = datetime.now()\n",
    "    print 'start sol time : %d'%((start_sol_time-closest_matrix_time).seconds)\n",
    "    obj_vec = objective2_vec(sol_step0,data)\n",
    "    opt_obj, opt_sol = local_search(data,max_trials,sol_step0,obj_vec,closest_matrix,first_closest,\n",
    "                                    tabu_flag,\n",
    "                                    tabu_frac,\n",
    "                                    tabu_size)\n",
    "    start_local_search_time = datetime.now()\n",
    "    print 'local_search time : %d'%((start_local_search_time-start_sol_time).seconds)\n",
    "    return opt_obj, opt_sol"
   ]
  },
  {
   "cell_type": "code",
   "execution_count": 23,
   "metadata": {
    "collapsed": true
   },
   "outputs": [],
   "source": [
    "PbFilename1 = r'./data/tsp_51_1'\n",
    "PbFilename2 = r'./data/tsp_100_3'\n",
    "PbFilename3 = r'./data/tsp_200_2'\n",
    "PbFilename4 = r'./data/tsp_574_1'\n",
    "PbFilename5 = r'./data/tsp_1889_1'\n",
    "PbFilename6 = r'./data/tsp_33810_1'"
   ]
  },
  {
   "cell_type": "code",
   "execution_count": 24,
   "metadata": {
    "collapsed": true
   },
   "outputs": [],
   "source": [
    "def closest_matrix_calc_kd(data,first_closest):\n",
    "    kd = KDTree(data.values)\n",
    "    return pd.DataFrame([kd.query(data.loc[idx].values,first_closest)[1] for idx in tqdm_notebook(xrange(len(data)), \n",
    "                                                                                                  desc='closest matrix')]).T"
   ]
  },
  {
   "cell_type": "code",
   "execution_count": 85,
   "metadata": {
    "collapsed": true
   },
   "outputs": [],
   "source": [
    "def tsp_simple_fast_kd(data, step=30):\n",
    "    sol = [data.index[0]]\n",
    "    kd = KDTree(data.values)\n",
    "    remainings = set(range(len(data)))\n",
    "    bar = tqdm_notebook(total=len(data))\n",
    "    idx = 0\n",
    "    while len(sol) < len(data):\n",
    "        last = sol[-1]\n",
    "        not_found = True \n",
    "        while not_found:\n",
    "            closest = kd.query(data.loc[last].values,step)[1]\n",
    "            closest_remaining = list(set(closest)&remainings) \n",
    "            if len(closest_remaining) > 0:\n",
    "                not_found = False\n",
    "            else:\n",
    "                kd = KDTree(data.loc[list(remainings)].values)\n",
    "                \n",
    "        bar.update(1)\n",
    "        idx = idx + 1\n",
    "        sol += [closest_remaining[0]]\n",
    "    \n",
    "        remainings -= set([sol[-1]])\n",
    "    return sol"
   ]
  },
  {
   "cell_type": "code",
   "execution_count": null,
   "metadata": {
    "collapsed": true
   },
   "outputs": [],
   "source": []
  },
  {
   "cell_type": "code",
   "execution_count": 95,
   "metadata": {},
   "outputs": [
    {
     "data": {
      "text/plain": [
       "<module 'solver' from 'solver.py'>"
      ]
     },
     "execution_count": 95,
     "metadata": {},
     "output_type": "execute_result"
    }
   ],
   "source": [
    "import solver\n",
    "reload(solver)"
   ]
  },
  {
   "cell_type": "code",
   "execution_count": 97,
   "metadata": {},
   "outputs": [
    {
     "data": {
      "application/vnd.jupyter.widget-view+json": {
       "model_id": "0758dbd3344844b69cda86377f937769",
       "version_major": 2,
       "version_minor": 0
      },
      "text/html": [
       "<p>Failed to display Jupyter Widget of type <code>HBox</code>.</p>\n",
       "<p>\n",
       "  If you're reading this message in the Jupyter Notebook or JupyterLab Notebook, it may mean\n",
       "  that the widgets JavaScript is still loading. If this message persists, it\n",
       "  likely means that the widgets JavaScript library is either not installed or\n",
       "  not enabled. See the <a href=\"https://ipywidgets.readthedocs.io/en/stable/user_install.html\">Jupyter\n",
       "  Widgets Documentation</a> for setup instructions.\n",
       "</p>\n",
       "<p>\n",
       "  If you're reading this message in another frontend (for example, a static\n",
       "  rendering on GitHub or <a href=\"https://nbviewer.jupyter.org/\">NBViewer</a>),\n",
       "  it may mean that your frontend doesn't currently support widgets.\n",
       "</p>\n"
      ],
      "text/plain": [
       "HBox(children=(IntProgress(value=0, max=573), HTML(value=u'')))"
      ]
     },
     "metadata": {},
     "output_type": "display_data"
    }
   ],
   "source": [
    "data = load_data(PbFilename4)\n",
    "first_sol = solver.tsp_simple_fast_kd(data,10)"
   ]
  },
  {
   "cell_type": "code",
   "execution_count": 28,
   "metadata": {},
   "outputs": [],
   "source": [
    "#%time obj2_vec = objective2_vec(fist_sol,data)"
   ]
  },
  {
   "cell_type": "code",
   "execution_count": 50,
   "metadata": {},
   "outputs": [],
   "source": [
    "%matplotlib notebook"
   ]
  },
  {
   "cell_type": "code",
   "execution_count": 51,
   "metadata": {},
   "outputs": [],
   "source": [
    "import matplotlib.pyplot as plt"
   ]
  },
  {
   "cell_type": "code",
   "execution_count": 98,
   "metadata": {},
   "outputs": [],
   "source": [
    "def plot_sol(data,sol):\n",
    "    plt.plot(data.loc[sol].x,data.loc[sol].y)\n",
    "    plt.scatter(data.loc[sol].x,data.loc[sol].y,color='r',s=5)"
   ]
  },
  {
   "cell_type": "code",
   "execution_count": 40,
   "metadata": {
    "collapsed": true
   },
   "outputs": [],
   "source": [
    "clusters = kmeans(data.values.astype(float),100)"
   ]
  },
  {
   "cell_type": "code",
   "execution_count": 76,
   "metadata": {},
   "outputs": [
    {
     "ename": "NotImplementedError",
     "evalue": "Not supported for type CategoricalIndex",
     "output_type": "error",
     "traceback": [
      "\u001b[1;31m---------------------------------------------------------------------------\u001b[0m",
      "\u001b[1;31mNotImplementedError\u001b[0m                       Traceback (most recent call last)",
      "\u001b[1;32m<ipython-input-76-f3a42318cef0>\u001b[0m in \u001b[0;36m<module>\u001b[1;34m()\u001b[0m\n\u001b[1;32m----> 1\u001b[1;33m \u001b[0mpd\u001b[0m\u001b[1;33m.\u001b[0m\u001b[0mCategoricalIndex\u001b[0m\u001b[1;33m(\u001b[0m\u001b[0mdata\u001b[0m\u001b[1;33m.\u001b[0m\u001b[0mindex\u001b[0m\u001b[1;33m)\u001b[0m\u001b[1;33m.\u001b[0m\u001b[0mshift\u001b[0m\u001b[1;33m(\u001b[0m\u001b[1;36m1\u001b[0m\u001b[1;33m)\u001b[0m\u001b[1;33m\u001b[0m\u001b[0m\n\u001b[0m",
      "\u001b[1;32mC:\\Users\\Richard\\AppData\\Local\\conda\\conda\\envs\\nbsphinx\\lib\\site-packages\\pandas\\core\\indexes\\base.pyc\u001b[0m in \u001b[0;36mshift\u001b[1;34m(self, periods, freq)\u001b[0m\n\u001b[0;32m   2071\u001b[0m         \"\"\"\n\u001b[0;32m   2072\u001b[0m         raise NotImplementedError(\"Not supported for type %s\" %\n\u001b[1;32m-> 2073\u001b[1;33m                                   type(self).__name__)\n\u001b[0m\u001b[0;32m   2074\u001b[0m \u001b[1;33m\u001b[0m\u001b[0m\n\u001b[0;32m   2075\u001b[0m     \u001b[1;32mdef\u001b[0m \u001b[0margsort\u001b[0m\u001b[1;33m(\u001b[0m\u001b[0mself\u001b[0m\u001b[1;33m,\u001b[0m \u001b[1;33m*\u001b[0m\u001b[0margs\u001b[0m\u001b[1;33m,\u001b[0m \u001b[1;33m**\u001b[0m\u001b[0mkwargs\u001b[0m\u001b[1;33m)\u001b[0m\u001b[1;33m:\u001b[0m\u001b[1;33m\u001b[0m\u001b[0m\n",
      "\u001b[1;31mNotImplementedError\u001b[0m: Not supported for type CategoricalIndex"
     ]
    }
   ],
   "source": [
    "pd.CategoricalIndex(data.index).shift(1)"
   ]
  },
  {
   "cell_type": "code",
   "execution_count": 34,
   "metadata": {},
   "outputs": [
    {
     "data": {
      "text/plain": [
       "1187619.6181858904"
      ]
     },
     "execution_count": 34,
     "metadata": {},
     "output_type": "execute_result"
    }
   ],
   "source": [
    "np.sqrt(sum(obj2_vec))"
   ]
  },
  {
   "cell_type": "code",
   "execution_count": 55,
   "metadata": {},
   "outputs": [
    {
     "name": "stdout",
     "output_type": "stream",
     "text": [
      "Wall time: 1d 8h 32min 27s\n"
     ]
    }
   ],
   "source": [
    "%time cm = closest_matrix_calc_kd(data, 1000)"
   ]
  },
  {
   "cell_type": "code",
   "execution_count": 49,
   "metadata": {
    "collapsed": true
   },
   "outputs": [],
   "source": [
    "save_sol(opt_sol,PbFilename6)"
   ]
  },
  {
   "cell_type": "code",
   "execution_count": 50,
   "metadata": {},
   "outputs": [
    {
     "data": {
      "text/plain": [
       "33810"
      ]
     },
     "execution_count": 50,
     "metadata": {},
     "output_type": "execute_result"
    }
   ],
   "source": [
    "len(opt_sol)"
   ]
  },
  {
   "cell_type": "code",
   "execution_count": 48,
   "metadata": {},
   "outputs": [
    {
     "name": "stdout",
     "output_type": "stream",
     "text": [
      "closest_matrix time : 617\n",
      "start sol time : 355\n",
      "it 0 obj: 320109014.104850\n",
      "it 1 init order 0 closest rank 1 swap (32336 31219) obj: 320109014.104842\n",
      "it 98 order 5 closest rank 3 swap (32756 32755) obj: 320109368.490564\n",
      "it 252 order 13 closest rank 5 swap (33545 33534) obj: 320108330.963316\n",
      "it 355 order 18 closest rank 13 swap (32191 32212) obj: 320108730.814855\n",
      "it 380 obj: 320108730.814855\n",
      "it 381 init order 0 closest rank 1 swap (32336 31219) obj: 320108730.814855\n",
      "it 420 order 2 closest rank 2 swap (18780 18781) obj: 320105555.016199\n",
      "it 427 order 2 closest rank 9 swap (18780 18766) obj: 320106394.155418\n",
      "it 466 order 4 closest rank 10 swap (18404 18406) obj: 320107509.910817\n",
      "it 614 order 12 closest rank 6 swap (8250 8257) obj: 320105116.850392\n",
      "it 760 obj: 320105116.850392\n",
      "it 761 init order 0 closest rank 1 swap (32336 31219) obj: 320105116.850387\n",
      "it 932 order 9 closest rank 1 swap (21929 21920) obj: 320102373.426336\n",
      "it 937 order 9 closest rank 6 swap (21929 21911) obj: 320102659.373709\n",
      "it 941 order 9 closest rank 10 swap (21929 21910) obj: 320102106.880988\n",
      "it 948 order 9 closest rank 17 swap (21929 21909) obj: 320101570.473212\n",
      "it 1140 obj: 320101570.473212\n",
      "it 1141 init order 0 closest rank 1 swap (8508 7739) obj: 320101570.473212\n",
      "it 1181 order 2 closest rank 3 swap (4101 4102) obj: 320099626.580560\n",
      "it 1246 order 5 closest rank 11 swap (18077 17831) obj: 320105232.009164\n",
      "it 1320 order 9 closest rank 9 swap (18915 18320) obj: 320100945.025748\n",
      "it 1359 order 11 closest rank 10 swap (19041 19032) obj: 320100788.130710\n",
      "it 1520 obj: 320100788.130710\n",
      "it 1521 init order 0 closest rank 1 swap (8508 7739) obj: 320100788.130734\n",
      "it 1563 order 2 closest rank 5 swap (4101 3758) obj: 320099737.127905\n",
      "it 1650 order 6 closest rank 16 swap (13254 12836) obj: 320100816.196901\n",
      "it 1680 order 8 closest rank 8 swap (19027 19031) obj: 320098203.993424\n",
      "it 1686 order 8 closest rank 14 swap (19027 19013) obj: 320096938.413793\n",
      "it 1900 obj: 320096938.413793\n",
      "it 1901 init order 0 closest rank 1 swap (19397 19393) obj: 320096938.413766\n",
      "it 2089 order 9 closest rank 18 swap (8990 9786) obj: 320093946.380990\n",
      "it 2222 order 16 closest rank 18 swap (9786 7985) obj: 320091938.787312\n",
      "it 2280 obj: 320091938.787312\n",
      "it 2281 init order 0 closest rank 1 swap (19397 19393) obj: 320091938.787312\n",
      "it 2389 order 5 closest rank 14 swap (9828 9831) obj: 320094982.066973\n",
      "it 2410 order 6 closest rank 16 swap (13254 12836) obj: 320091966.853503\n",
      "it 2522 order 12 closest rank 14 swap (33185 33166) obj: 320089116.741786\n",
      "it 2635 order 18 closest rank 13 swap (12177 12157) obj: 320090880.450572\n",
      "it 2660 obj: 320090880.450572\n",
      "it 2661 init order 0 closest rank 1 swap (28228 28221) obj: 320090880.450572\n",
      "it 2790 order 6 closest rank 16 swap (13254 12836) obj: 320090908.516763\n",
      "it 2871 order 11 closest rank 2 swap (22780 22784) obj: 320086929.020056\n",
      "it 3040 obj: 320086929.020056\n",
      "it 3041 init order 0 closest rank 1 swap (3922 4137) obj: 320089090.699394\n",
      "it 3043 order 0 closest rank 3 swap (3922 4138) obj: 320087764.771657\n",
      "it 3049 order 0 closest rank 9 swap (3922 4139) obj: 320087200.420279\n",
      "it 3278 order 12 closest rank 10 swap (32775 32584) obj: 320083321.652090\n",
      "it 3363 order 16 closest rank 19 swap (9786 8965) obj: 320089199.945403\n",
      "it 3420 obj: 320089199.945403\n",
      "it 3421 init order 0 closest rank 1 swap (3922 4137) obj: 320091361.624742\n",
      "it 3423 order 0 closest rank 3 swap (3922 4138) obj: 320090035.697005\n",
      "it 3429 order 0 closest rank 9 swap (3922 4139) obj: 320089471.345626\n",
      "it 3473 order 2 closest rank 15 swap (8329 8340) obj: 320091605.620089\n",
      "it 3529 order 5 closest rank 14 swap (9828 9831) obj: 320092243.225044\n",
      "it 3751 order 17 closest rank 8 swap (9465 9484) obj: 320088073.455041\n",
      "it 3800 obj: 320088073.455041\n",
      "it 3801 init order 0 closest rank 1 swap (23197 23196) obj: 320088073.455041\n",
      "it 3858 order 3 closest rank 1 swap (27422 27421) obj: 320087259.948668\n",
      "it 3888 order 4 closest rank 12 swap (18414 18406) obj: 320087473.938413\n",
      "it 4180 obj: 320087473.938413\n",
      "it 4181 init order 0 closest rank 1 swap (17241 17240) obj: 320087473.938413\n",
      "it 4190 order 0 closest rank 10 swap (17241 17348) obj: 320091376.418307\n",
      "it 4236 order 2 closest rank 18 swap (18790 18804) obj: 320088251.919043\n",
      "it 4560 obj: 320088251.919043\n",
      "it 4561 init order 0 closest rank 1 swap (25994 25985) obj: 320088251.919029\n",
      "it 4564 order 0 closest rank 4 swap (25994 25538) obj: 320087257.047882\n",
      "it 4777 order 11 closest rank 8 swap (31497 31499) obj: 320086706.039831\n",
      "it 4940 obj: 320086706.039831\n",
      "it 4941 init order 0 closest rank 1 swap (7652 7651) obj: 320086706.039839\n",
      "it 4954 order 0 closest rank 14 swap (7652 7040) obj: 320083318.247874\n",
      "it 5320 obj: 320083318.247874\n",
      "it 5321 init order 0 closest rank 1 swap (7652 7651) obj: 320083318.247872\n",
      "it 5323 order 0 closest rank 3 swap (7652 7044) obj: 320083315.867593\n",
      "it 5331 order 0 closest rank 11 swap (7652 7650) obj: 320082258.309957\n",
      "it 5443 order 6 closest rank 9 swap (17771 17832) obj: 320077351.797205\n",
      "it 5504 order 9 closest rank 13 swap (2452 2448) obj: 320088101.483396\n",
      "it 5519 order 10 closest rank 9 swap (2638 2652) obj: 320080874.540855\n",
      "it 5526 order 10 closest rank 16 swap (2638 2653) obj: 320080670.286554\n",
      "it 5609 order 15 closest rank 4 swap (7612 6650) obj: 320079527.454204\n",
      "it 5612 order 15 closest rank 7 swap (7612 7613) obj: 319675827.342649\n",
      "it 5700 obj: 319675827.342649\n",
      "it 5701 init order 0 closest rank 1 swap (13185 13186) obj: 319675827.342643\n",
      "it 5716 order 0 closest rank 16 swap (13185 12106) obj: 319676694.929820\n",
      "it 6080 obj: 319676694.929820\n",
      "it 6081 init order 0 closest rank 1 swap (13185 13186) obj: 319676694.929814\n",
      "it 6083 order 0 closest rank 3 swap (13185 12117) obj: 319676184.032455\n",
      "it 6087 order 0 closest rank 7 swap (13185 12116) obj: 319676351.123724\n",
      "it 6198 order 6 closest rank 4 swap (3066 3076) obj: 319675689.751405\n",
      "it 6312 order 12 closest rank 4 swap (21538 21539) obj: 319676596.888799\n",
      "it 6318 order 12 closest rank 10 swap (21538 22463) obj: 319675901.103387\n",
      "it 6460 obj: 319675901.103387\n",
      "it 6461 init order 0 closest rank 1 swap (13185 13186) obj: 319675901.103381\n",
      "it 6463 order 0 closest rank 3 swap (13185 12117) obj: 319675390.206021\n",
      "it 6467 order 0 closest rank 7 swap (13185 12116) obj: 319675557.297291\n",
      "it 6578 order 6 closest rank 4 swap (3066 3076) obj: 319674895.924971\n",
      "it 6840 obj: 319674895.924971\n",
      "it 6841 init order 0 closest rank 1 swap (13185 13186) obj: 319674895.924965\n",
      "it 6843 order 0 closest rank 3 swap (13185 12117) obj: 319674385.027605\n",
      "it 6847 order 0 closest rank 7 swap (13185 12116) obj: 319674552.118875\n",
      "it 7094 order 13 closest rank 7 swap (25564 26364) obj: 319674912.774583\n",
      "it 7220 obj: 319674912.774583\n",
      "it 7221 init order 0 closest rank 1 swap (13185 13186) obj: 319674912.774577\n",
      "it 7223 order 0 closest rank 3 swap (13185 12117) obj: 319674401.877218\n",
      "it 7227 order 0 closest rank 7 swap (13185 12116) obj: 319674568.968487\n",
      "it 7538 order 16 closest rank 14 swap (17843 17026) obj: 319677649.797199\n",
      "it 7600 obj: 319677649.797199\n",
      "it 7601 init order 0 closest rank 1 swap (9720 9719) obj: 319677649.797199\n",
      "it 7698 order 5 closest rank 3 swap (5104 5105) obj: 319676478.224328\n",
      "it 7745 order 7 closest rank 12 swap (4064 4065) obj: 319676573.021301\n",
      "it 7945 order 18 closest rank 3 swap (4057 5338) obj: 319676756.917932\n",
      "it 7951 order 18 closest rank 9 swap (4057 5331) obj: 319678283.430153\n",
      "it 7953 order 18 closest rank 11 swap (4057 5337) obj: 319676677.127868\n",
      "it 7954 order 18 closest rank 12 swap (4057 4054) obj: 319678101.540411\n",
      "it 7955 order 18 closest rank 13 swap (4057 5797) obj: 319676102.516126\n",
      "it 7959 order 18 closest rank 17 swap (4057 5320) obj: 319672582.125919\n",
      "it 7980 obj: 319672582.125919\n",
      "it 7981 init order 0 closest rank 1 swap (9720 9719) obj: 319672582.125919\n",
      "it 8137 order 8 closest rank 5 swap (315 304) obj: 319671410.553044\n",
      "it 8179 order 10 closest rank 9 swap (33650 33661) obj: 319668975.232797\n",
      "it 8360 obj: 319668975.232797\n",
      "it 8361 init order 0 closest rank 1 swap (17096 17095) obj: 319668975.232768\n",
      "it 8421 order 3 closest rank 4 swap (2447 1619) obj: 319668343.218863\n",
      "it 8507 order 7 closest rank 14 swap (482 473) obj: 319665799.729496\n",
      "it 8661 order 15 closest rank 16 swap (17136 17319) obj: 319670404.053248\n",
      "it 8740 obj: 319670404.053248\n",
      "it 8741 init order 0 closest rank 1 swap (17096 17095) obj: 319670404.053215\n"
     ]
    },
    {
     "name": "stdout",
     "output_type": "stream",
     "text": [
      "it 8764 order 1 closest rank 5 swap (20897 20271) obj: 319668005.420923\n",
      "it 8887 order 7 closest rank 14 swap (482 473) obj: 319667228.549948\n",
      "it 9120 obj: 319667228.549948\n",
      "it 9121 init order 0 closest rank 1 swap (17096 17095) obj: 319667228.549916\n",
      "it 9144 order 1 closest rank 5 swap (20897 20271) obj: 319664829.917622\n",
      "it 9500 obj: 319664829.917622\n",
      "it 9501 init order 0 closest rank 1 swap (24777 23680) obj: 319664829.917622\n",
      "it 9504 order 0 closest rank 4 swap (24777 24782) obj: 319664103.810173\n",
      "it 9646 order 7 closest rank 13 swap (7581 6189) obj: 319664991.732057\n",
      "it 9849 order 18 closest rank 7 swap (7574 7572) obj: 319662762.002865\n",
      "it 9880 obj: 319662762.002865\n",
      "it 9881 init order 0 closest rank 1 swap (17332 17331) obj: 319662762.002865\n",
      "it 9894 order 0 closest rank 14 swap (17332 17334) obj: 319664076.145725\n",
      "it 10260 obj: 319664076.145725\n",
      "it 10261 init order 0 closest rank 1 swap (17332 17331) obj: 319662762.002865\n",
      "it 10262 order 0 closest rank 2 swap (17332 17330) obj: 319664076.145698\n",
      "it 10264 order 0 closest rank 4 swap (17332 17473) obj: 319644655.270861\n",
      "it 10640 obj: 319644655.270861\n",
      "it 10641 init order 0 closest rank 1 swap (17332 17331) obj: 319639392.185897\n",
      "it 10739 order 5 closest rank 4 swap (33488 1301) obj: 319641513.881690\n",
      "it 10779 order 7 closest rank 6 swap (5572 5562) obj: 319642388.795817\n",
      "it 10786 order 7 closest rank 13 swap (5572 5553) obj: 319640803.655700\n",
      "it 11020 obj: 319640803.655700\n",
      "it 11021 init order 0 closest rank 1 swap (17332 17331) obj: 319645882.269405\n",
      "it 11022 order 0 closest rank 2 swap (17332 17330) obj: 319640803.655700\n",
      "it 11138 order 6 closest rank 4 swap (21999 23275) obj: 319639800.977110\n",
      "it 11292 order 14 closest rank 6 swap (5635 5642) obj: 319639699.613680\n",
      "it 11400 obj: 319639699.613680\n",
      "it 11401 init order 0 closest rank 1 swap (17332 17331) obj: 319627231.500928\n",
      "it 11780 obj: 319627231.500928\n",
      "it 11781 init order 0 closest rank 1 swap (31570 31564) obj: 319627231.500930\n",
      "it 11782 order 0 closest rank 2 swap (31570 31571) obj: 319626629.232624\n",
      "it 11855 order 3 closest rank 18 swap (28158 28141) obj: 319628494.588451\n",
      "it 12110 order 17 closest rank 7 swap (17551 17361) obj: 319628287.673660\n",
      "it 12160 obj: 319628287.673660\n",
      "it 12161 init order 0 closest rank 1 swap (31570 31564) obj: 319628287.673662\n",
      "it 12162 order 0 closest rank 2 swap (31570 31571) obj: 319627685.405356\n",
      "it 12235 order 3 closest rank 18 swap (28158 28141) obj: 319629550.761172\n",
      "it 12507 order 18 closest rank 5 swap (25813 25803) obj: 319624616.102801\n",
      "it 12540 obj: 319624616.102801\n",
      "it 12541 init order 0 closest rank 1 swap (9109 9103) obj: 319624616.102850\n",
      "it 12601 order 3 closest rank 4 swap (12521 12530) obj: 319621924.789004\n",
      "it 12760 order 11 closest rank 11 swap (14706 14703) obj: 319624814.174471\n",
      "it 12863 order 16 closest rank 19 swap (17230 17018) obj: 319621606.372942\n",
      "it 12920 obj: 319621606.372942\n",
      "it 12921 init order 0 closest rank 1 swap (9109 9103) obj: 319621606.372989\n",
      "it 12967 order 2 closest rank 9 swap (3957 4576) obj: 319621959.648566\n",
      "it 12977 order 2 closest rank 19 swap (3957 4568) obj: 319623813.993945\n",
      "it 13116 order 10 closest rank 6 swap (17586 17789) obj: 319620485.520855\n",
      "it 13140 order 11 closest rank 11 swap (14706 14703) obj: 319621804.444611\n",
      "it 13300 obj: 319621804.444611\n",
      "it 13301 init order 0 closest rank 1 swap (9109 9103) obj: 319621804.444659\n",
      "it 13347 order 2 closest rank 9 swap (3957 4576) obj: 319622157.720236\n",
      "it 13357 order 2 closest rank 19 swap (3957 4568) obj: 319624012.065614\n",
      "it 13496 order 10 closest rank 6 swap (17586 17789) obj: 319620683.592524\n",
      "it 13572 order 14 closest rank 6 swap (9149 9800) obj: 319620138.077053\n",
      "it 13680 obj: 319620138.077053\n",
      "it 13681 init order 0 closest rank 1 swap (9109 9103) obj: 319620138.077053\n",
      "it 13727 order 2 closest rank 9 swap (3957 4576) obj: 319620491.352652\n",
      "it 13737 order 2 closest rank 19 swap (3957 4568) obj: 319622345.698056\n",
      "it 13791 order 5 closest rank 16 swap (28528 28520) obj: 319618610.651907\n",
      "it 13828 order 7 closest rank 15 swap (30857 30836) obj: 319620922.541174\n",
      "it 13960 order 14 closest rank 14 swap (9149 9799) obj: 319614330.971384\n",
      "it 14016 order 17 closest rank 13 swap (28165 28154) obj: 319619261.217691\n",
      "it 14060 obj: 319619261.217691\n",
      "it 14061 init order 0 closest rank 1 swap (9109 9103) obj: 319619261.217706\n",
      "it 14117 order 2 closest rank 19 swap (3957 4568) obj: 319619142.482118\n",
      "it 14255 order 10 closest rank 5 swap (21502 21275) obj: 319619361.165496\n",
      "it 14440 obj: 319619361.165496\n",
      "it 14441 init order 0 closest rank 1 swap (24426 23453) obj: 319619361.165481\n",
      "it 14507 order 3 closest rank 10 swap (21014 21009) obj: 319620159.979586\n",
      "it 14529 order 4 closest rank 13 swap (29954 28088) obj: 319618548.841385\n",
      "it 14690 order 13 closest rank 3 swap (14697 14704) obj: 319616658.694075\n",
      "it 14715 order 14 closest rank 9 swap (24386 25269) obj: 319617459.876952\n",
      "it 14716 order 14 closest rank 10 swap (24386 24375) obj: 319324815.179854\n",
      "it 14820 obj: 319324815.179854\n",
      "it 14821 init order 0 closest rank 1 swap (5829 6334) obj: 319324815.179837\n",
      "it 14881 order 3 closest rank 4 swap (21014 21018) obj: 319324134.604078\n",
      "it 14887 order 3 closest rank 10 swap (21014 21009) obj: 319321664.027878\n",
      "it 15070 order 13 closest rank 3 swap (14697 14704) obj: 319322112.708414\n",
      "it 15200 obj: 319322112.708414\n",
      "it 15201 init order 0 closest rank 1 swap (24174 24164) obj: 319322112.708414\n",
      "it 15241 order 2 closest rank 3 swap (29326 29325) obj: 319320941.135538\n",
      "it 15280 order 4 closest rank 4 swap (29702 29712) obj: 319320674.618869\n",
      "it 15326 order 6 closest rank 12 swap (18883 18866) obj: 319320584.844374\n",
      "it 15407 order 10 closest rank 17 swap (12033 12013) obj: 319321829.917865\n",
      "it 15568 order 19 closest rank 7 swap (8254 8252) obj: 319319821.081105\n",
      "it 15580 obj: 319319821.081105\n",
      "it 15581 init order 0 closest rank 1 swap (33543 33533) obj: 319319821.081106\n",
      "it 15663 order 4 closest rank 7 swap (28015 28883) obj: 319319818.065547\n",
      "it 15736 order 8 closest rank 4 swap (5299 5280) obj: 319320124.243184\n",
      "it 15755 order 9 closest rank 4 swap (25853 27649) obj: 319316587.771365\n",
      "it 15960 obj: 319316587.771365\n",
      "it 15961 init order 0 closest rank 1 swap (33543 33533) obj: 319316587.771369\n",
      "it 15980 order 1 closest rank 1 swap (14198 14188) obj: 319316080.290918\n",
      "it 15986 order 1 closest rank 7 swap (14198 14200) obj: 319314159.101790\n",
      "it 15990 order 1 closest rank 11 swap (14198 14206) obj: 319313498.138022\n",
      "it 15994 order 1 closest rank 15 swap (14198 14213) obj: 319313554.376034\n",
      "it 16340 obj: 319313554.376034\n",
      "it 16341 init order 0 closest rank 1 swap (26469 25399) obj: 319313554.376046\n",
      "it 16495 order 8 closest rank 3 swap (349 350) obj: 319312382.803162\n",
      "it 16498 order 8 closest rank 6 swap (349 347) obj: 319314475.555852\n",
      "it 16508 order 8 closest rank 16 swap (349 32687) obj: 319313285.102745\n",
      "it 16709 order 19 closest rank 8 swap (12198 12185) obj: 319312552.122190\n",
      "it 16710 order 19 closest rank 9 swap (12198 12193) obj: 319310383.599380\n",
      "it 16720 obj: 319310383.599380\n",
      "it 16721 init order 0 closest rank 1 swap (19241 19239) obj: 319310383.599375\n",
      "it 16861 order 7 closest rank 8 swap (24807 24796) obj: 319312047.519669\n",
      "it 16867 order 7 closest rank 14 swap (24807 24797) obj: 319312086.116137\n",
      "it 17100 obj: 319312086.116137\n",
      "it 17101 init order 0 closest rank 1 swap (8457 8447) obj: 319312086.116137\n",
      "it 17254 order 8 closest rank 2 swap (349 348) obj: 319310914.543248\n",
      "it 17271 order 8 closest rank 19 swap (349 357) obj: 319312226.404675\n",
      "it 17346 order 12 closest rank 18 swap (15497 15478) obj: 319312249.599164\n",
      "it 17347 order 12 closest rank 19 swap (15497 15515) obj: 319309262.847439\n",
      "it 17442 order 17 closest rank 19 swap (29927 28047) obj: 319310150.633942\n",
      "it 17480 obj: 319310150.633942\n",
      "it 17481 init order 0 closest rank 1 swap (32412 32411) obj: 319310150.633918\n",
      "it 17498 order 0 closest rank 18 swap (32412 32415) obj: 319310478.392381\n",
      "it 17517 order 1 closest rank 18 swap (27369 27372) obj: 319307827.490474\n",
      "it 17860 obj: 319307827.490474\n",
      "it 17861 init order 0 closest rank 1 swap (16331 15849) obj: 319307827.490474\n",
      "it 17882 order 1 closest rank 3 swap (27369 27370) obj: 319306299.626429\n",
      "it 17923 order 3 closest rank 6 swap (26104 26094) obj: 319308478.983453\n",
      "it 18093 order 12 closest rank 5 swap (25372 26259) obj: 319309191.445852\n"
     ]
    },
    {
     "name": "stdout",
     "output_type": "stream",
     "text": [
      "it 18138 order 14 closest rank 12 swap (16291 15820) obj: 319304914.821737\n",
      "it 18240 obj: 319304914.821737\n",
      "it 18241 init order 0 closest rank 1 swap (16331 15849) obj: 319304914.821737\n",
      "it 18262 order 1 closest rank 3 swap (27369 27370) obj: 319303386.957692\n",
      "it 18303 order 3 closest rank 6 swap (26104 26094) obj: 319305566.314716\n",
      "it 18473 order 12 closest rank 5 swap (25372 26259) obj: 319306278.777114\n",
      "it 18540 order 15 closest rank 15 swap (4579 4571) obj: 319301770.070676\n",
      "it 18588 order 18 closest rank 6 swap (22325 22333) obj: 319302493.289222\n",
      "it 18590 order 18 closest rank 8 swap (22325 22323) obj: 319304463.183585\n",
      "it 18594 order 18 closest rank 12 swap (22325 21528) obj: 319304322.777433\n",
      "it 18599 order 18 closest rank 17 swap (22325 22332) obj: 319304237.998313\n",
      "it 18620 obj: 319304237.998313\n",
      "it 18621 init order 0 closest rank 1 swap (16331 15849) obj: 319304237.998327\n",
      "it 18622 order 0 closest rank 2 swap (16331 15850) obj: 319301006.790289\n",
      "it 18952 order 17 closest rank 9 swap (26436 26425) obj: 319304147.374402\n",
      "it 19000 obj: 319304147.374402\n",
      "it 19001 init order 0 closest rank 1 swap (16331 15849) obj: 319304147.374415\n",
      "it 19002 order 0 closest rank 2 swap (16331 15850) obj: 319300916.166378\n",
      "it 19380 obj: 319300916.166378\n",
      "it 19381 init order 0 closest rank 1 swap (16331 15849) obj: 319300916.166391\n",
      "it 19644 order 13 closest rank 17 swap (22381 21745) obj: 319301704.676305\n",
      "it 19760 obj: 319301704.676305\n",
      "it 19761 init order 0 closest rank 1 swap (16331 15849) obj: 319301704.676321\n",
      "it 20016 order 13 closest rank 9 swap (22381 22389) obj: 319301612.098465\n",
      "it 20017 order 13 closest rank 10 swap (22381 22391) obj: 319301181.293860\n",
      "it 20084 order 17 closest rank 1 swap (26436 26430) obj: 319297945.510786\n",
      "it 20140 obj: 319297945.510786\n",
      "it 20141 init order 0 closest rank 1 swap (16331 15849) obj: 319297945.510802\n",
      "it 20396 order 13 closest rank 9 swap (22381 22389) obj: 319297852.932946\n",
      "it 20397 order 13 closest rank 10 swap (22381 22391) obj: 319297422.128341\n",
      "it 20488 order 18 closest rank 6 swap (22325 22333) obj: 319297130.229081\n",
      "it 20509 order 19 closest rank 8 swap (5058 4022) obj: 319295754.687759\n",
      "it 20520 obj: 319295754.687759\n",
      "it 20521 init order 0 closest rank 1 swap (16331 15849) obj: 319295754.687774\n",
      "it 20776 order 13 closest rank 9 swap (22381 22389) obj: 319295662.109918\n",
      "it 20777 order 13 closest rank 10 swap (22381 22391) obj: 319295231.305313\n",
      "it 20868 order 18 closest rank 6 swap (22325 22333) obj: 319294939.406053\n",
      "it 20900 obj: 319294939.406053\n",
      "it 20901 init order 0 closest rank 1 swap (16331 15849) obj: 319294939.406069\n",
      "it 21225 order 17 closest rank 2 swap (26436 26437) obj: 319293148.441378\n",
      "it 21280 obj: 319293148.441378\n",
      "it 21281 init order 0 closest rank 1 swap (16331 15849) obj: 319293148.441393\n",
      "it 21607 order 17 closest rank 4 swap (26436 25572) obj: 319292254.846941\n",
      "it 21660 obj: 319292254.846941\n",
      "it 21661 init order 0 closest rank 1 swap (16331 15849) obj: 319292254.846956\n",
      "it 22041 init order 0 closest rank 1 swap (7614 7613) obj: 319292254.846943\n",
      "it 22049 order 0 closest rank 9 swap (7614 6686) obj: 319294726.240654\n",
      "it 22054 order 0 closest rank 14 swap (7614 6685) obj: 319294289.856790\n",
      "it 22058 order 0 closest rank 18 swap (7614 6696) obj: 319295152.177685\n",
      "it 22420 obj: 319295152.177685\n",
      "it 22421 init order 0 closest rank 1 swap (7614 7613) obj: 319295152.177683\n",
      "it 22423 order 0 closest rank 3 swap (7614 6676) obj: 319293931.318348\n",
      "it 22440 order 1 closest rank 1 swap (18466 18454) obj: 319291155.726254\n",
      "it 22493 order 3 closest rank 16 swap (19731 19754) obj: 319294304.847467\n",
      "it 22605 order 9 closest rank 14 swap (31284 31293) obj: 319294282.906801\n",
      "it 22800 obj: 319294282.906801\n",
      "it 22801 init order 0 closest rank 1 swap (29459 29449) obj: 319294282.906801\n",
      "it 22806 order 0 closest rank 6 swap (29459 29450) obj: 319293115.620073\n",
      "it 23180 obj: 319293115.620073\n",
      "it 23181 init order 0 closest rank 1 swap (29459 29449) obj: 319294282.906801\n",
      "it 23182 order 0 closest rank 2 swap (29459 29458) obj: 319294287.192955\n",
      "it 23186 order 0 closest rank 6 swap (29459 29450) obj: 319293115.620073\n",
      "it 23201 order 1 closest rank 2 swap (18466 18467) obj: 319291587.756028\n",
      "it 23204 order 1 closest rank 5 swap (18466 18478) obj: 319290772.474323\n",
      "it 23257 order 4 closest rank 1 swap (3684 3683) obj: 319289687.682279\n",
      "it 23362 order 9 closest rank 11 swap (5789 5790) obj: 319289999.787429\n",
      "it 23560 obj: 319289999.787429\n",
      "it 23561 init order 0 closest rank 1 swap (29459 29449) obj: 319291167.074156\n",
      "it 23562 order 0 closest rank 2 swap (29459 29458) obj: 319291171.360299\n",
      "it 23566 order 0 closest rank 6 swap (29459 29450) obj: 319289999.787429\n",
      "it 23594 order 1 closest rank 15 swap (17919 17036) obj: 319291873.747463\n",
      "it 23707 order 7 closest rank 14 swap (25485 27152) obj: 319290092.935145\n",
      "it 23936 order 19 closest rank 15 swap (19778 20027) obj: 319288830.779713\n",
      "it 23940 obj: 319288830.779713\n",
      "it 23941 init order 0 closest rank 1 swap (29459 29449) obj: 319289998.066441\n",
      "it 23942 order 0 closest rank 2 swap (29459 29458) obj: 319290002.352601\n",
      "it 23946 order 0 closest rank 6 swap (29459 29450) obj: 319288830.779713\n",
      "it 23988 order 2 closest rank 10 swap (4060 5427) obj: 319288102.479030\n",
      "it 24055 order 6 closest rank 1 swap (7187 7186) obj: 319289686.340914\n",
      "it 24058 order 6 closest rank 4 swap (7187 7184) obj: 319288696.326042\n",
      "it 24060 order 6 closest rank 6 swap (7187 5968) obj: 319288783.181656\n",
      "it 24063 order 6 closest rank 9 swap (7187 7182) obj: 319288646.946915\n",
      "it 24065 order 6 closest rank 11 swap (7187 5967) obj: 319288786.643201\n",
      "it 24068 order 6 closest rank 14 swap (7187 7180) obj: 319288751.604895\n",
      "it 24070 order 6 closest rank 16 swap (7187 5966) obj: 319288924.723814\n",
      "it 24073 order 6 closest rank 19 swap (7187 7178) obj: 319288931.054532\n",
      "it 24134 order 10 closest rank 4 swap (7448 7458) obj: 319286320.338550\n",
      "it 24320 obj: 319286320.338550\n",
      "it 24321 init order 0 closest rank 1 swap (26447 26440) obj: 319286320.338564\n",
      "it 24376 order 2 closest rank 18 swap (18036 16925) obj: 319287444.580450\n",
      "it 24700 obj: 319287444.580450\n",
      "it 24701 init order 0 closest rank 1 swap (26447 26440) obj: 319287444.580467\n",
      "it 24746 order 2 closest rank 8 swap (22050 22041) obj: 319288500.738404\n",
      "it 24811 order 5 closest rank 16 swap (11393 11403) obj: 319287695.192811\n",
      "it 25080 obj: 319287695.192811\n",
      "it 25081 init order 0 closest rank 1 swap (26447 26440) obj: 319287695.192807\n",
      "it 25099 order 0 closest rank 19 swap (26447 26442) obj: 319286229.514567\n",
      "it 25460 obj: 319286229.514567\n",
      "it 25461 init order 0 closest rank 1 swap (10302 10043) obj: 319286229.514567\n",
      "it 25608 order 7 closest rank 15 swap (3739 3737) obj: 319286682.787410\n",
      "it 25674 order 11 closest rank 5 swap (5201 5212) obj: 319285095.228298\n",
      "it 25833 order 19 closest rank 12 swap (5204 5212) obj: 319284023.898388\n",
      "it 25840 obj: 319284023.898388\n",
      "it 25841 init order 0 closest rank 1 swap (10302 10043) obj: 319284023.898380\n",
      "it 26104 order 13 closest rank 17 swap (32213 32227) obj: 319285335.459231\n",
      "it 26206 order 19 closest rank 5 swap (25693 27634) obj: 319282480.888383\n",
      "it 26220 obj: 319282480.888383\n",
      "it 26221 init order 0 closest rank 1 swap (10302 10043) obj: 319282480.888372\n",
      "it 26329 order 5 closest rank 14 swap (1128 1119) obj: 319281978.815261\n",
      "it 26464 order 12 closest rank 16 swap (460 476) obj: 319279881.386091\n",
      "it 26600 obj: 319279881.386091\n",
      "it 26601 init order 0 closest rank 1 swap (10302 10043) obj: 319279881.386080\n",
      "it 26709 order 5 closest rank 14 swap (1128 1119) obj: 319279379.312969\n",
      "it 26842 order 12 closest rank 14 swap (460 1340) obj: 319269086.141374\n",
      "it 26980 obj: 319269086.141374\n",
      "it 26981 init order 0 closest rank 1 swap (14152 14151) obj: 319269086.141374\n",
      "it 27089 order 5 closest rank 14 swap (1128 1119) obj: 319268584.068247\n",
      "it 27360 obj: 319268584.068247\n",
      "it 27361 init order 0 closest rank 1 swap (12097 12094) obj: 319268584.068247\n",
      "it 27373 order 0 closest rank 13 swap (12097 11771) obj: 319269562.573106\n",
      "it 27740 obj: 319269562.573106\n",
      "it 27741 init order 0 closest rank 1 swap (31085 31078) obj: 319269562.573106\n",
      "it 27807 order 3 closest rank 10 swap (19531 19520) obj: 319270282.780019\n",
      "it 27913 order 9 closest rank 2 swap (28417 28416) obj: 319267253.245730\n",
      "it 28044 order 15 closest rank 19 swap (27794 27973) obj: 319269852.178338\n"
     ]
    },
    {
     "name": "stdout",
     "output_type": "stream",
     "text": [
      "it 28120 obj: 319269852.178338\n",
      "it 28121 init order 0 closest rank 1 swap (31085 31078) obj: 319269852.178338\n",
      "it 28187 order 3 closest rank 10 swap (19531 19520) obj: 319270572.385252\n",
      "it 28293 order 9 closest rank 2 swap (28417 28416) obj: 319267542.850963\n",
      "it 28500 obj: 319267542.850963\n",
      "it 28501 init order 0 closest rank 1 swap (613 603) obj: 319267542.850963\n",
      "it 28567 order 3 closest rank 10 swap (19531 19520) obj: 319269207.136007\n",
      "it 28570 order 3 closest rank 13 swap (19531 19550) obj: 319266703.040492\n",
      "it 28880 obj: 319266703.040492\n",
      "it 28881 init order 0 closest rank 1 swap (613 603) obj: 319266703.040492\n",
      "it 28940 order 3 closest rank 3 swap (19531 19532) obj: 319264230.904537\n",
      "it 29104 order 11 closest rank 15 swap (17486 32280) obj: 319273027.297202\n",
      "it 29122 order 12 closest rank 14 swap (8912 8926) obj: 319268393.267505\n",
      "it 29215 order 17 closest rank 12 swap (3316 1540) obj: 319267626.921277\n",
      "it 29237 order 18 closest rank 15 swap (13475 15674) obj: 319264641.202538\n",
      "it 29260 obj: 319264641.202538\n",
      "it 29261 init order 0 closest rank 1 swap (33353 33343) obj: 319264641.202544\n",
      "it 29368 order 5 closest rank 13 swap (18061 17827) obj: 319274123.849222\n",
      "it 29502 order 12 closest rank 14 swap (8912 8926) obj: 319266535.665926\n",
      "it 29630 order 19 closest rank 9 swap (17489 17338) obj: 319271126.785949\n",
      "it 29640 obj: 319271126.785949\n",
      "it 29641 init order 0 closest rank 1 swap (33452 33444) obj: 319273598.921904\n",
      "it 29642 order 0 closest rank 2 swap (33452 33451) obj: 319273797.177418\n",
      "it 29643 order 0 closest rank 3 swap (33452 33462) obj: 319271126.785949\n",
      "it 29684 order 2 closest rank 6 swap (6307 6313) obj: 319268610.352828\n",
      "it 29774 order 7 closest rank 1 swap (17829 17828) obj: 319265789.401536\n",
      "it 29776 order 7 closest rank 3 swap (17829 17765) obj: 319268505.323987\n",
      "it 29778 order 7 closest rank 5 swap (17829 17764) obj: 319268770.503165\n",
      "it 29780 order 7 closest rank 7 swap (17829 17763) obj: 319269298.735675\n",
      "it 29782 order 7 closest rank 9 swap (17829 17762) obj: 319270028.847737\n",
      "it 29785 order 7 closest rank 12 swap (17829 17761) obj: 319270911.827195\n",
      "it 29787 order 7 closest rank 14 swap (17829 17760) obj: 319271911.038094\n",
      "it 29789 order 7 closest rank 16 swap (17829 17759) obj: 319270436.010984\n",
      "it 29790 order 7 closest rank 17 swap (17829 17758) obj: 319275375.433301\n",
      "it 29792 order 7 closest rank 19 swap (17829 21358) obj: 319268923.352012\n",
      "it 30020 obj: 319268923.352012\n",
      "it 30021 init order 0 closest rank 1 swap (3130 3125) obj: 319268923.352015\n",
      "it 30128 order 5 closest rank 13 swap (18061 17827) obj: 319278405.998697\n",
      "it 30400 obj: 319278405.998697\n",
      "it 30401 init order 0 closest rank 1 swap (3130 3125) obj: 319278405.998694\n",
      "it 30499 order 5 closest rank 4 swap (18061 18063) obj: 319279261.654009\n",
      "it 30762 order 19 closest rank 1 swap (17489 17488) obj: 319277806.024607\n",
      "it 30780 obj: 319277806.024607\n",
      "it 30781 init order 0 closest rank 1 swap (27220 27211) obj: 319277806.024593\n",
      "it 30783 order 0 closest rank 3 swap (27220 27221) obj: 319276634.451723\n",
      "it 30795 order 0 closest rank 15 swap (27220 27232) obj: 319276643.100174\n",
      "it 31011 order 12 closest rank 3 swap (6267 6266) obj: 319277149.042812\n",
      "it 31057 order 14 closest rank 11 swap (27180 27199) obj: 319274356.336202\n",
      "it 31160 obj: 319274356.336202\n",
      "it 31161 init order 0 closest rank 1 swap (27220 27211) obj: 319274356.336202\n",
      "it 31162 order 0 closest rank 2 swap (27220 27219) obj: 319273184.763327\n",
      "it 31319 order 8 closest rank 7 swap (31082 30020) obj: 319275042.226037\n",
      "it 31364 order 10 closest rank 14 swap (15159 15147) obj: 319273150.501363\n",
      "it 31453 order 15 closest rank 8 swap (17477 17334) obj: 319274654.539170\n",
      "it 31540 obj: 319274654.539170\n",
      "it 31541 init order 0 closest rank 1 swap (27220 27211) obj: 319274654.539164\n",
      "it 31543 order 0 closest rank 3 swap (27220 27221) obj: 319273482.966299\n",
      "it 31555 order 0 closest rank 15 swap (27220 27232) obj: 319273491.614737\n",
      "it 31797 order 13 closest rank 10 swap (4085 4088) obj: 319273225.174161\n",
      "it 31806 order 13 closest rank 19 swap (4085 5819) obj: 319273325.246440\n",
      "it 31920 obj: 319273325.246440\n",
      "it 31921 init order 0 closest rank 1 swap (27220 27211) obj: 319273325.246434\n",
      "it 31923 order 0 closest rank 3 swap (27220 27221) obj: 319272153.673568\n",
      "it 31935 order 0 closest rank 15 swap (27220 27232) obj: 319272162.322007\n",
      "it 32177 order 13 closest rank 10 swap (4085 4088) obj: 319264818.616403\n",
      "it 32300 obj: 319264818.616403\n",
      "it 32301 init order 0 closest rank 1 swap (27220 27211) obj: 319264818.616397\n",
      "it 32303 order 0 closest rank 3 swap (27220 27221) obj: 319263647.043531\n",
      "it 32315 order 0 closest rank 15 swap (27220 27232) obj: 319263655.691970\n",
      "it 32680 obj: 319263655.691970\n",
      "it 32681 init order 0 closest rank 1 swap (27220 27211) obj: 319263655.691964\n",
      "it 32685 order 0 closest rank 5 swap (27220 27212) obj: 319262840.410268\n",
      "it 32704 order 1 closest rank 5 swap (9495 7869) obj: 319261681.539715\n",
      "it 32916 order 12 closest rank 8 swap (14737 14747) obj: 319263526.347064\n",
      "it 33060 obj: 319263526.347064\n",
      "it 33061 init order 0 closest rank 1 swap (10492 10485) obj: 319263526.347068\n",
      "it 33086 order 1 closest rank 7 swap (28217 27946) obj: 319261702.213635\n",
      "it 33440 obj: 319261702.213635\n",
      "it 33441 init order 0 closest rank 1 swap (21462 21461) obj: 319261702.213634\n",
      "it 33455 order 0 closest rank 15 swap (21462 21466) obj: 319261707.574039\n",
      "it 33537 order 5 closest rank 2 swap (29097 27907) obj: 318870473.606382\n",
      "it 33820 obj: 318870473.606382\n",
      "it 33821 init order 0 closest rank 1 swap (4853 4849) obj: 318870473.606382\n",
      "it 33956 order 7 closest rank 3 swap (29329 29328) obj: 318869753.122927\n",
      "it 33998 order 9 closest rank 7 swap (2185 3642) obj: 318870797.038871\n",
      "it 34012 order 10 closest rank 2 swap (16914 16912) obj: 318870117.967425\n",
      "it 34013 order 10 closest rank 3 swap (16914 16916) obj: 318861736.653721\n",
      "it 34200 obj: 318861736.653721\n",
      "it 34201 init order 0 closest rank 1 swap (26765 26758) obj: 318861736.653727\n",
      "it 34305 order 5 closest rank 10 swap (2521 2506) obj: 318860211.112331\n",
      "it 34306 order 5 closest rank 11 swap (2521 2508) obj: 318858889.643305\n",
      "it 34404 order 10 closest rank 14 swap (16914 16911) obj: 318857892.402462\n",
      "it 34580 obj: 318857892.402462\n",
      "it 34581 init order 0 closest rank 1 swap (26765 26758) obj: 318857892.402462\n",
      "it 34583 order 0 closest rank 3 swap (26765 27707) obj: 318854466.054542\n",
      "it 34771 order 10 closest rank 1 swap (16914 16913) obj: 318829007.981359\n",
      "it 34772 order 10 closest rank 2 swap (16914 16912) obj: 318840767.506331\n",
      "it 34960 obj: 318840767.506331\n",
      "it 34961 init order 0 closest rank 1 swap (26765 26758) obj: 318840767.506331\n",
      "it 34963 order 0 closest rank 3 swap (26765 27707) obj: 318837341.158411\n",
      "it 35176 order 11 closest rank 7 swap (5592 4083) obj: 318838050.750242\n",
      "it 35340 obj: 318838050.750242\n",
      "it 35341 init order 0 closest rank 1 swap (26765 26758) obj: 318838050.750242\n",
      "it 35343 order 0 closest rank 3 swap (26765 27707) obj: 318834624.402322\n",
      "it 35720 obj: 318834624.402322\n",
      "it 35721 init order 0 closest rank 1 swap (26765 26758) obj: 318838050.750242\n",
      "it 35722 order 0 closest rank 2 swap (26765 26764) obj: 318834624.402329\n",
      "it 35910 order 9 closest rank 19 swap (11767 12013) obj: 318834544.559613\n",
      "it 36100 obj: 318834544.559613\n",
      "it 36101 init order 0 closest rank 1 swap (26765 26758) obj: 318837970.907533\n",
      "it 36102 order 0 closest rank 2 swap (26765 26764) obj: 318834544.559620\n",
      "it 36274 order 9 closest rank 3 swap (11767 11766) obj: 318834667.299959\n",
      "it 36278 order 9 closest rank 7 swap (11767 12023) obj: 318834737.178519\n",
      "it 36393 order 15 closest rank 8 swap (19780 20027) obj: 318834598.785212\n",
      "it 36480 obj: 318834598.785212\n",
      "it 36481 init order 0 closest rank 1 swap (4593 4592) obj: 318834598.785224\n",
      "it 36499 order 0 closest rank 19 swap (4593 4571) obj: 318833716.338403\n",
      "it 36860 obj: 318833716.338403\n",
      "it 36861 init order 0 closest rank 1 swap (4593 4592) obj: 318833716.338413\n",
      "it 36862 order 0 closest rank 2 swap (4593 4594) obj: 318832188.474368\n",
      "it 36864 order 0 closest rank 4 swap (4593 4584) obj: 318831373.192663\n",
      "it 36953 order 4 closest rank 17 swap (20402 20419) obj: 318833018.007227\n",
      "it 37050 order 9 closest rank 19 swap (17255 17022) obj: 318836287.828688\n",
      "it 37240 obj: 318836287.828688\n",
      "it 37241 init order 0 closest rank 1 swap (4593 4592) obj: 318836287.828696\n"
     ]
    },
    {
     "name": "stdout",
     "output_type": "stream",
     "text": [
      "it 37242 order 0 closest rank 2 swap (4593 4594) obj: 318834759.964660\n",
      "it 37244 order 0 closest rank 4 swap (4593 4584) obj: 318833944.682954\n",
      "it 37277 order 1 closest rank 18 swap (17979 16917) obj: 318840540.481678\n",
      "it 37620 obj: 318840540.481678\n",
      "it 37621 init order 0 closest rank 1 swap (5173 5166) obj: 318840540.481669\n",
      "it 37642 order 1 closest rank 3 swap (17979 17977) obj: 318842154.857092\n",
      "it 37720 order 5 closest rank 5 swap (18859 18871) obj: 318839725.199972\n",
      "it 37875 order 13 closest rank 8 swap (26283 26294) obj: 318840514.958181\n",
      "it 37904 order 14 closest rank 18 swap (5133 5154) obj: 318840406.597116\n",
      "it 38000 obj: 318840406.597116\n",
      "it 38001 init order 0 closest rank 1 swap (6102 6101) obj: 318840406.597119\n",
      "it 38045 order 2 closest rank 7 swap (12393 12402) obj: 318839591.315412\n",
      "it 38063 order 3 closest rank 6 swap (1799 1791) obj: 318841191.701550\n",
      "it 38093 order 4 closest rank 17 swap (24683 23677) obj: 318841741.117120\n",
      "it 38310 order 16 closest rank 6 swap (16292 16295) obj: 318841227.815440\n",
      "it 38312 order 16 closest rank 8 swap (16292 16296) obj: 318841642.867025\n",
      "it 38314 order 16 closest rank 10 swap (16292 16297) obj: 318842060.918106\n",
      "it 38317 order 16 closest rank 13 swap (16292 16285) obj: 318841819.095405\n",
      "it 38320 order 16 closest rank 16 swap (16292 16284) obj: 318842791.244306\n",
      "it 38380 obj: 318842791.244306\n",
      "it 38381 init order 0 closest rank 1 swap (18913 18132) obj: 318842791.244278\n",
      "it 38431 order 2 closest rank 13 swap (12622 12629) obj: 318843825.293844\n",
      "it 38467 order 4 closest rank 11 swap (332 350) obj: 318842502.208537\n",
      "it 38760 obj: 318842502.208537\n",
      "it 38761 init order 0 closest rank 1 swap (18913 18132) obj: 318842502.208537\n",
      "it 38801 order 2 closest rank 3 swap (11977 11976) obj: 318841781.725082\n",
      "it 38858 order 5 closest rank 3 swap (32599 32919) obj: 318841422.281112\n",
      "it 38916 order 8 closest rank 4 swap (14664 14656) obj: 318841586.786244\n",
      "it 38923 order 8 closest rank 11 swap (14664 14677) obj: 318839658.242455\n",
      "it 39140 obj: 318839658.242455\n",
      "it 39141 init order 0 closest rank 1 swap (18936 18929) obj: 318839658.242440\n",
      "it 39169 order 1 closest rank 10 swap (6130 6129) obj: 318839273.683770\n",
      "it 39201 order 3 closest rank 4 swap (14633 14641) obj: 318835916.567425\n",
      "it 39215 order 3 closest rank 18 swap (14633 14613) obj: 318840673.890873\n",
      "it 39438 order 15 closest rank 13 swap (25178 25195) obj: 318839307.377735\n",
      "it 39520 obj: 318839307.377735\n",
      "it 39521 init order 0 closest rank 1 swap (13003 12998) obj: 318843303.003155\n",
      "it 39522 order 0 closest rank 2 swap (13003 13004) obj: 318839307.377726\n",
      "it 39586 order 3 closest rank 9 swap (17306 17305) obj: 318835591.484551\n",
      "it 39900 obj: 318835591.484551\n",
      "it 39901 init order 0 closest rank 1 swap (13003 12998) obj: 318839587.109972\n",
      "it 39902 order 0 closest rank 2 swap (13003 13004) obj: 318835591.484545\n",
      "it 39940 order 2 closest rank 2 swap (6067 6839) obj: 318834777.978179\n",
      "it 39998 order 5 closest rank 3 swap (1297 33350) obj: 318836984.349849\n",
      "it 40005 order 5 closest rank 10 swap (1297 33358) obj: 318836946.586142\n",
      "it 40014 order 5 closest rank 19 swap (1297 33366) obj: 318837024.183764\n",
      "it 40139 order 12 closest rank 11 swap (2191 3644) obj: 318835784.469642\n",
      "it 40280 obj: 318835784.469642\n",
      "it 40281 init order 0 closest rank 1 swap (19445 18257) obj: 318835784.469642\n",
      "it 40320 order 2 closest rank 2 swap (6067 6839) obj: 318834970.963267\n",
      "it 40516 order 12 closest rank 8 swap (2191 2200) obj: 318834750.482936\n",
      "it 40524 order 12 closest rank 16 swap (2191 3643) obj: 318833104.390123\n",
      "it 40660 obj: 318833104.390123\n",
      "it 40661 init order 0 closest rank 1 swap (25454 26833) obj: 318833104.390123\n",
      "it 40701 order 2 closest rank 3 swap (5022 4016) obj: 318832541.589507\n",
      "it 40760 order 5 closest rank 5 swap (9792 9065) obj: 318833654.118246\n",
      "it 40761 order 5 closest rank 6 swap (9792 9790) obj: 318833104.390126\n",
      "it 40764 order 5 closest rank 9 swap (9792 9070) obj: 318832117.814189\n",
      "it 40766 order 5 closest rank 11 swap (9792 9064) obj: 318829190.102100\n",
      "it 40919 order 13 closest rank 12 swap (14739 14727) obj: 318832461.166684\n",
      "it 41040 obj: 318832461.166684\n",
      "it 41041 init order 0 closest rank 1 swap (24341 24338) obj: 318832461.166684\n",
      "it 41065 order 1 closest rank 6 swap (30705 30696) obj: 318831289.593808\n",
      "it 41102 order 3 closest rank 5 swap (20038 20571) obj: 318834300.828281\n",
      "it 41223 order 9 closest rank 12 swap (1842 1821) obj: 318832169.576237\n",
      "it 41420 obj: 318832169.576237\n",
      "it 41421 init order 0 closest rank 1 swap (24341 24338) obj: 318832169.576237\n",
      "it 41445 order 1 closest rank 6 swap (30705 30696) obj: 318830998.003362\n",
      "it 41496 order 3 closest rank 19 swap (11203 10163) obj: 318831740.476880\n",
      "it 41534 order 5 closest rank 19 swap (21449 21079) obj: 318836316.558747\n",
      "it 41724 order 15 closest rank 19 swap (19584 19604) obj: 318829734.362587\n",
      "it 41800 obj: 318829734.362587\n",
      "it 41801 init order 0 closest rank 1 swap (24341 24338) obj: 318829734.362586\n",
      "it 41825 order 1 closest rank 6 swap (30705 30696) obj: 318828562.789711\n",
      "it 41914 order 5 closest rank 19 swap (21449 21079) obj: 318833881.345098\n",
      "it 42180 obj: 318833881.345098\n",
      "it 42181 init order 0 closest rank 1 swap (24341 24338) obj: 318833881.345092\n",
      "it 42205 order 1 closest rank 6 swap (30705 30696) obj: 318832709.772222\n",
      "it 42278 order 5 closest rank 3 swap (21449 21090) obj: 318832757.749833\n",
      "it 42279 order 5 closest rank 4 swap (21449 21088) obj: 318830827.578436\n",
      "it 42281 order 5 closest rank 6 swap (21449 21086) obj: 318831471.667672\n",
      "it 42286 order 5 closest rank 11 swap (21449 20297) obj: 318831889.461465\n",
      "it 42319 order 7 closest rank 6 swap (21217 21221) obj: 318836684.281702\n",
      "it 42530 order 18 closest rank 8 swap (20877 20267) obj: 318834492.764547\n",
      "it 42560 obj: 318834492.764547\n",
      "it 42561 init order 0 closest rank 1 swap (24341 24338) obj: 318834492.764541\n",
      "it 42585 order 1 closest rank 6 swap (30705 30696) obj: 318833321.191672\n",
      "it 42658 order 5 closest rank 3 swap (21449 21090) obj: 318833369.169282\n",
      "it 42659 order 5 closest rank 4 swap (21449 21088) obj: 318831438.997886\n",
      "it 42661 order 5 closest rank 6 swap (21449 21086) obj: 318832083.087122\n",
      "it 42666 order 5 closest rank 11 swap (21449 20297) obj: 318832500.880914\n",
      "it 42699 order 7 closest rank 6 swap (21217 21221) obj: 318837295.701151\n",
      "it 42940 obj: 318837295.701151\n",
      "it 42941 init order 0 closest rank 1 swap (2258 2248) obj: 318839767.837106\n",
      "it 42942 order 0 closest rank 2 swap (2258 2257) obj: 318837295.701158\n",
      "it 43018 order 4 closest rank 2 swap (6693 6692) obj: 318835458.826767\n",
      "it 43040 order 5 closest rank 5 swap (5150 4030) obj: 318833941.977204\n",
      "it 43064 order 6 closest rank 10 swap (15350 13523) obj: 318274053.671325\n",
      "it 43320 obj: 318274053.671325\n",
      "it 43321 init order 0 closest rank 1 swap (29446 28070) obj: 318274053.671325\n",
      "it 43322 order 0 closest rank 2 swap (29446 29436) obj: 318274281.250967\n",
      "it 43338 order 0 closest rank 18 swap (29446 29945) obj: 318274062.638705\n",
      "it 43678 order 18 closest rank 16 swap (25982 25974) obj: 318272494.925681\n",
      "it 43700 obj: 318272494.925681\n",
      "it 43701 init order 0 closest rank 1 swap (9491 9480) obj: 318272494.925668\n",
      "it 43723 order 1 closest rank 4 swap (3127 3121) obj: 318271323.352806\n",
      "it 43911 order 11 closest rank 2 swap (25979 25978) obj: 318269672.646352\n",
      "it 43916 order 11 closest rank 7 swap (25979 25986) obj: 318269001.806984\n",
      "it 43926 order 11 closest rank 17 swap (25979 25985) obj: 318269322.740932\n",
      "it 43928 order 11 closest rank 19 swap (25979 25995) obj: 318269158.264722\n",
      "it 44006 order 16 closest rank 2 swap (21484 20345) obj: 318269009.422137\n",
      "it 44008 order 16 closest rank 4 swap (21484 20344) obj: 318269167.888615\n",
      "it 44010 order 16 closest rank 6 swap (21484 20343) obj: 318271211.617124\n",
      "it 44013 order 16 closest rank 9 swap (21484 21483) obj: 318268911.521966\n",
      "it 44016 order 16 closest rank 12 swap (21484 20342) obj: 318270467.545744\n",
      "it 44023 order 16 closest rank 19 swap (21484 20341) obj: 318270969.642841\n",
      "it 44080 obj: 318270969.642841\n",
      "it 44081 init order 0 closest rank 1 swap (9491 9480) obj: 318270969.642841\n",
      "it 44104 order 1 closest rank 5 swap (15272 15265) obj: 318270613.351681\n",
      "it 44293 order 11 closest rank 4 swap (26230 27671) obj: 318269265.876538\n",
      "it 44301 order 11 closest rank 12 swap (26230 26211) obj: 318272728.626387\n",
      "it 44412 order 17 closest rank 9 swap (20254 20604) obj: 318269640.421283\n"
     ]
    },
    {
     "name": "stdout",
     "output_type": "stream",
     "text": [
      "it 44460 obj: 318269640.421283\n",
      "it 44461 init order 0 closest rank 1 swap (30038 31195) obj: 318269640.421283\n",
      "it 44523 order 3 closest rank 6 swap (25641 27738) obj: 318269430.057537\n",
      "it 44538 order 4 closest rank 2 swap (12331 12330) obj: 318268119.018576\n",
      "it 44539 order 4 closest rank 3 swap (12331 12340) obj: 318267689.914002\n",
      "it 44544 order 4 closest rank 8 swap (12331 11789) obj: 318266141.534620\n",
      "it 44549 order 4 closest rank 13 swap (12331 12338) obj: 318266884.791238\n",
      "it 44553 order 4 closest rank 17 swap (12331 12348) obj: 318266220.008256\n",
      "it 44840 obj: 318266220.008256\n",
      "it 44841 init order 0 closest rank 1 swap (30038 31195) obj: 318266220.008243\n",
      "it 44903 order 3 closest rank 6 swap (25641 27738) obj: 318266184.532762\n",
      "it 45004 order 8 closest rank 12 swap (12515 12506) obj: 318266020.806458\n",
      "it 45220 obj: 318266020.806458\n",
      "it 45221 init order 0 closest rank 1 swap (30038 31195) obj: 318266020.806445\n",
      "it 45283 order 3 closest rank 6 swap (25641 27738) obj: 318265985.330964\n",
      "it 45472 order 13 closest rank 5 swap (2625 3666) obj: 318265419.434024\n",
      "it 45600 obj: 318265419.434024\n",
      "it 45601 init order 0 closest rank 1 swap (27596 27587) obj: 318267891.569979\n",
      "it 45602 order 0 closest rank 2 swap (27596 27595) obj: 318265419.434011\n",
      "it 45637 order 1 closest rank 18 swap (33377 33398) obj: 318266876.749069\n",
      "it 45753 order 8 closest rank 1 swap (12515 11813) obj: 318259572.586475\n",
      "it 45761 order 8 closest rank 9 swap (12515 12535) obj: 318249168.826215\n",
      "it 45923 order 16 closest rank 19 swap (13727 13428) obj: 318256369.406110\n",
      "it 45980 obj: 318256369.406110\n",
      "it 45981 init order 0 closest rank 1 swap (21818 21817) obj: 318256369.406115\n",
      "it 46049 order 3 closest rank 12 swap (17421 17314) obj: 318263335.848266\n",
      "it 46329 order 18 closest rank 7 swap (6375 7597) obj: 318252622.434821\n",
      "it 46360 obj: 318252622.434821\n",
      "it 46361 init order 0 closest rank 1 swap (20821 20814) obj: 318252622.434821\n",
      "it 46414 order 2 closest rank 16 swap (17145 17137) obj: 318253641.435349\n",
      "it 46416 order 2 closest rank 18 swap (17145 17006) obj: 318251981.594155\n",
      "it 46740 obj: 318251981.594155\n",
      "it 46741 init order 0 closest rank 1 swap (20821 20814) obj: 318251981.594155\n",
      "it 46781 order 2 closest rank 3 swap (17145 17143) obj: 318253268.714166\n",
      "it 46799 order 3 closest rank 2 swap (25218 25219) obj: 318248446.401894\n",
      "it 46805 order 3 closest rank 8 swap (25218 25220) obj: 318248737.353010\n",
      "it 46815 order 3 closest rank 18 swap (25218 25221) obj: 318249080.237722\n",
      "it 46960 order 11 closest rank 11 swap (6372 6358) obj: 318248148.673418\n",
      "it 47120 obj: 318248148.673418\n",
      "it 47121 init order 0 closest rank 1 swap (16629 16628) obj: 318248148.673419\n",
      "it 47174 order 2 closest rank 16 swap (17145 17137) obj: 318245439.390969\n",
      "it 47500 obj: 318245439.390969\n",
      "it 47501 init order 0 closest rank 1 swap (28019 28939) obj: 318245439.390970\n",
      "it 47525 order 1 closest rank 6 swap (23235 21874) obj: 318245374.297384\n",
      "it 47541 order 2 closest rank 3 swap (27503 27504) obj: 318243279.871783\n",
      "it 47570 order 3 closest rank 13 swap (32416 30313) obj: 318245537.823545\n",
      "it 47667 order 8 closest rank 15 swap (10287 10276) obj: 318244116.194646\n",
      "it 47880 obj: 318244116.194646\n",
      "it 47881 init order 0 closest rank 1 swap (18096 18095) obj: 318244116.194646\n",
      "it 47894 order 0 closest rank 14 swap (18096 17835) obj: 318246619.189588\n",
      "it 48198 order 16 closest rank 14 swap (3230 3218) obj: 318246682.239505\n",
      "it 48235 order 18 closest rank 13 swap (32542 397) obj: 318244440.949730\n",
      "it 48260 obj: 318244440.949730\n",
      "it 48261 init order 0 closest rank 1 swap (18096 18095) obj: 318244440.949752\n",
      "it 48285 order 1 closest rank 6 swap (23235 21874) obj: 318241913.918539\n",
      "it 48291 order 1 closest rank 12 swap (23235 23242) obj: 318245946.614949\n",
      "it 48404 order 7 closest rank 11 swap (6549 6546) obj: 318247442.554362\n",
      "it 48418 order 8 closest rank 6 swap (2923 2926) obj: 318244911.376420\n",
      "it 48640 obj: 318244911.376420\n",
      "it 48641 init order 0 closest rank 1 swap (18096 18095) obj: 318244911.376441\n",
      "it 48665 order 1 closest rank 6 swap (23235 21874) obj: 318242384.345229\n",
      "it 48671 order 1 closest rank 12 swap (23235 23242) obj: 318246417.041638\n",
      "it 48784 order 7 closest rank 11 swap (6549 6546) obj: 318247912.981052\n",
      "it 48947 order 16 closest rank 3 swap (1711 3756) obj: 318240647.173048\n",
      "it 49020 obj: 318240647.173048\n",
      "it 49021 init order 0 closest rank 1 swap (18096 18095) obj: 318240647.173048\n",
      "it 49034 order 0 closest rank 14 swap (18096 17835) obj: 318243150.167975\n",
      "it 49058 order 1 closest rank 19 swap (12091 11770) obj: 318243355.367966\n",
      "it 49271 order 13 closest rank 4 swap (7277 7287) obj: 318237028.162803\n",
      "it 49315 order 15 closest rank 10 swap (30410 30408) obj: 318239320.479744\n",
      "it 49321 order 15 closest rank 16 swap (30410 30418) obj: 318237929.777795\n",
      "it 49400 obj: 318237929.777795\n",
      "it 49401 init order 0 closest rank 1 swap (12400 12399) obj: 318237929.777795\n",
      "it 49407 order 0 closest rank 7 swap (12400 11800) obj: 318239218.250916\n",
      "it 49446 order 2 closest rank 8 swap (11884 13070) obj: 318238517.089024\n",
      "it 49780 obj: 318238517.089024\n",
      "it 49781 init order 0 closest rank 1 swap (1586 2032) obj: 318238517.089021\n",
      "it 49784 order 0 closest rank 4 swap (1586 2023) obj: 318238792.051902\n",
      "it 49825 order 2 closest rank 7 swap (11884 13080) obj: 318238266.601592\n",
      "it 49939 order 8 closest rank 7 swap (15393 15402) obj: 318237676.234649\n",
      "it 49997 order 11 closest rank 8 swap (18676 18682) obj: 318238093.880800\n",
      "it 49999 order 11 closest rank 10 swap (18676 18308) obj: 318238206.399623\n",
      "it 50000 obj: 318238206.399623\n",
      "local_search time : 1491\n",
      "318238206.4\n"
     ]
    }
   ],
   "source": [
    "opt_obj, opt_sol = solve_tsp(PbFilename6,\n",
    "                             50000,\n",
    "                             20,\n",
    "                             calc_first_closest=20,\n",
    "                             step=1000,\n",
    "                             tabu_flag=True,\n",
    "                             tabu_frac=0.1,\n",
    "                             tabu_size = 1000,       \n",
    "                             simple_fast_flag=True)\n",
    "print opt_obj"
   ]
  },
  {
   "cell_type": "code",
   "execution_count": 58,
   "metadata": {},
   "outputs": [
    {
     "data": {
      "text/plain": [
       "{3548}"
      ]
     },
     "execution_count": 58,
     "metadata": {},
     "output_type": "execute_result"
    }
   ],
   "source": [
    "set(range(33810)) -set(opt_sol)"
   ]
  },
  {
   "cell_type": "code",
   "execution_count": 54,
   "metadata": {
    "scrolled": true
   },
   "outputs": [
    {
     "ename": "NameError",
     "evalue": "name 'data' is not defined",
     "output_type": "error",
     "traceback": [
      "\u001b[1;31m---------------------------------------------------------------------------\u001b[0m",
      "\u001b[1;31mNameError\u001b[0m                                 Traceback (most recent call last)",
      "\u001b[1;32m<ipython-input-54-c32229b5dda9>\u001b[0m in \u001b[0;36m<module>\u001b[1;34m()\u001b[0m\n\u001b[1;32m----> 1\u001b[1;33m \u001b[0mlen\u001b[0m\u001b[1;33m(\u001b[0m\u001b[0mdata\u001b[0m\u001b[1;33m)\u001b[0m\u001b[1;33m\u001b[0m\u001b[0m\n\u001b[0m",
      "\u001b[1;31mNameError\u001b[0m: name 'data' is not defined"
     ]
    }
   ],
   "source": [
    "len(data)"
   ]
  }
 ],
 "metadata": {
  "kernelspec": {
   "display_name": "Python 2",
   "language": "python",
   "name": "python2"
  },
  "language_info": {
   "codemirror_mode": {
    "name": "ipython",
    "version": 2
   },
   "file_extension": ".py",
   "mimetype": "text/x-python",
   "name": "python",
   "nbconvert_exporter": "python",
   "pygments_lexer": "ipython2",
   "version": "2.7.13"
  }
 },
 "nbformat": 4,
 "nbformat_minor": 2
}
