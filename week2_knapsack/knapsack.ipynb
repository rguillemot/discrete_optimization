{
 "cells": [
  {
   "cell_type": "code",
   "execution_count": 3,
   "metadata": {
    "collapsed": true
   },
   "outputs": [],
   "source": [
    "import pandas as pd"
   ]
  },
  {
   "cell_type": "code",
   "execution_count": 4,
   "metadata": {},
   "outputs": [
    {
     "data": {
      "text/plain": [
       "<module 'solver' from 'solver.pyc'>"
      ]
     },
     "execution_count": 4,
     "metadata": {},
     "output_type": "execute_result"
    }
   ],
   "source": [
    "import solver, submit\n",
    "reload(solver)"
   ]
  },
  {
   "cell_type": "code",
   "execution_count": 5,
   "metadata": {
    "collapsed": true
   },
   "outputs": [],
   "source": [
    "from collections import namedtuple\n",
    "from operator import attrgetter\n",
    "Item = namedtuple(\"Item\", ['index', 'value', 'weight','value_weight'])"
   ]
  },
  {
   "cell_type": "code",
   "execution_count": 6,
   "metadata": {
    "collapsed": true
   },
   "outputs": [],
   "source": [
    "def load_input_data(filename):\n",
    "    input_data = submit.load_input_data(filename)\n",
    "    lines = input_data.split('\\n')\n",
    "\n",
    "    firstLine = lines[0].split()\n",
    "    item_count = int(firstLine[0])\n",
    "    capacity = int(firstLine[1])\n",
    "\n",
    "    items = []\n",
    "\n",
    "    for i in range(1, item_count+1):\n",
    "        line = lines[i]\n",
    "        parts = line.split()\n",
    "        items.append(Item(i-1, int(parts[0]), int(parts[1]), float(parts[0])/float(parts[1])))\n",
    "    return capacity, sorted(items, key=attrgetter('value_weight'), reverse=True)"
   ]
  },
  {
   "cell_type": "code",
   "execution_count": 7,
   "metadata": {
    "collapsed": true
   },
   "outputs": [],
   "source": [
    "import math\n",
    "import numpy as np"
   ]
  },
  {
   "cell_type": "code",
   "execution_count": 8,
   "metadata": {},
   "outputs": [],
   "source": [
    "def compute_solution(capacity,items,nb_points,lb_flag):\n",
    "    opt, check, takens = solver.dyn_prog_solve_v2(capacity,items,nb_points,lb_flag)\n",
    "    print 'opt %s: %.f check: %.f/%.f (perf : %.2f%s) '%('lb' if lb_flag else 'ub',\n",
    "                                                         opt,\n",
    "                                                     check, \n",
    "                                                     capacity,\n",
    "                                                     float(check)/capacity*100,'%')+str(takens)\n",
    "    return opt, takens"
   ]
  },
  {
   "cell_type": "code",
   "execution_count": 130,
   "metadata": {},
   "outputs": [],
   "source": [
    "capacity, items = load_input_data('./data/ks_10000_0')"
   ]
  },
  {
   "cell_type": "code",
   "execution_count": 54,
   "metadata": {},
   "outputs": [
    {
     "data": {
      "text/plain": [
       "134007.03715926342"
      ]
     },
     "execution_count": 54,
     "metadata": {},
     "output_type": "execute_result"
    }
   ],
   "source": [
    "solver.heuristic(capacity,items)"
   ]
  },
  {
   "cell_type": "code",
   "execution_count": 55,
   "metadata": {},
   "outputs": [
    {
     "data": {
      "text/plain": [
       "100000"
      ]
     },
     "execution_count": 55,
     "metadata": {},
     "output_type": "execute_result"
    }
   ],
   "source": [
    "capacity"
   ]
  },
  {
   "cell_type": "code",
   "execution_count": 91,
   "metadata": {},
   "outputs": [
    {
     "name": "stdout",
     "output_type": "stream",
     "text": [
      "opt lb: 3960932 check: 9471864/9486367 (perf : 99.85%) [389, 237, 375, 393, 391, 376]\n",
      "Wall time: 2.17 s\n"
     ]
    }
   ],
   "source": [
    "%time opt1_lb, takens1_lb = compute_solution(capacity,items,1000,True)"
   ]
  },
  {
   "cell_type": "code",
   "execution_count": 57,
   "metadata": {},
   "outputs": [
    {
     "name": "stdout",
     "output_type": "stream",
     "text": [
      "opt lb: 109847 check: 99957/100000 (perf : 99.96%) [124, 627, 640, 703, 485, 504, 115, 525, 553, 336, 519, 642]\n",
      "Wall time: 52.5 s\n"
     ]
    }
   ],
   "source": [
    "%time opt2_lb, takens2_lb = compute_solution(capacity,items,10000,True)"
   ]
  },
  {
   "cell_type": "code",
   "execution_count": 58,
   "metadata": {},
   "outputs": [
    {
     "data": {
      "text/plain": [
       "(True, 0.0, 109493)"
      ]
     },
     "execution_count": 58,
     "metadata": {},
     "output_type": "execute_result"
    }
   ],
   "source": [
    "solver.check_knapsack(capacity,items,takens1_lb,-1)"
   ]
  },
  {
   "cell_type": "code",
   "execution_count": 59,
   "metadata": {},
   "outputs": [
    {
     "data": {
      "text/plain": [
       "(True, 0.0, 109847)"
      ]
     },
     "execution_count": 59,
     "metadata": {},
     "output_type": "execute_result"
    }
   ],
   "source": [
    "solver.check_knapsack(capacity,items,takens2_lb,-1)"
   ]
  },
  {
   "cell_type": "code",
   "execution_count": 92,
   "metadata": {},
   "outputs": [
    {
     "data": {
      "text/plain": [
       "[Item(index=374, value=1365820, weight=3265540, value_weight=0.41825241767058435),\n",
       " Item(index=376, value=1445900, weight=3457100, value_weight=0.4182407219924214),\n",
       " Item(index=391, value=1417728, weight=3389756, value_weight=0.41823895289218455),\n",
       " Item(index=399, value=1211040, weight=2895580, value_weight=0.4182374515641081),\n",
       " Item(index=379, value=492496, weight=1177692, value_weight=0.4181874378020739),\n",
       " Item(index=377, value=501060, weight=1198220, value_weight=0.41817028592412075),\n",
       " Item(index=393, value=491820, weight=1176140, value_weight=0.4181645042256874),\n",
       " Item(index=375, value=562272, weight=1344644, value_weight=0.41815677606860996),\n",
       " Item(index=174, value=387480, weight=926660, value_weight=0.41814689314311615),\n",
       " Item(index=334, value=387480, weight=926660, value_weight=0.41814689314311615),\n",
       " Item(index=52, value=395124, weight=944948, value_weight=0.41814364388304964),\n",
       " Item(index=397, value=400156, weight=957012, value_weight=0.4181305981534192),\n",
       " Item(index=380, value=387824, weight=927548, value_weight=0.41811744513491483),\n",
       " Item(index=254, value=236380, weight=565460, value_weight=0.4180313373182895),\n",
       " Item(index=79, value=170844, weight=408788, value_weight=0.41792811922072076),\n",
       " Item(index=358, value=170844, weight=408788, value_weight=0.41792811922072076),\n",
       " Item(index=40, value=226844, weight=542788, value_weight=0.4179237566047886),\n",
       " Item(index=353, value=226844, weight=542788, value_weight=0.4179237566047886),\n",
       " Item(index=354, value=226844, weight=542788, value_weight=0.4179237566047886),\n",
       " Item(index=355, value=226844, weight=542788, value_weight=0.4179237566047886),\n",
       " Item(index=356, value=226844, weight=542788, value_weight=0.4179237566047886),\n",
       " Item(index=381, value=151320, weight=362140, value_weight=0.41784945048876126),\n",
       " Item(index=228, value=166516, weight=398532, value_weight=0.4178234119217528),\n",
       " Item(index=260, value=138032, weight=330364, value_weight=0.417817922049618),\n",
       " Item(index=27, value=156840, weight=375380, value_weight=0.417816612499334),\n",
       " Item(index=387, value=102896, weight=246292, value_weight=0.4177805206827668),\n",
       " Item(index=90, value=132868, weight=318036, value_weight=0.417776603906476),\n",
       " Item(index=103, value=105876, weight=253452, value_weight=0.41773590265612426),\n",
       " Item(index=382, value=109924, weight=263148, value_weight=0.4177269065316856),\n",
       " Item(index=342, value=107364, weight=257028, value_weight=0.4177132452495448),\n",
       " Item(index=255, value=116500, weight=278900, value_weight=0.417712441735389),\n",
       " Item(index=151, value=106284, weight=254468, value_weight=0.41767137714761776),\n",
       " Item(index=107, value=83452, weight=199804, value_weight=0.41766931592961104),\n",
       " Item(index=398, value=108800, weight=260500, value_weight=0.417658349328215),\n",
       " Item(index=313, value=114356, weight=273812, value_weight=0.41764422304354815),\n",
       " Item(index=378, value=106224, weight=254348, value_weight=0.41763253495211283),\n",
       " Item(index=385, value=107732, weight=257964, value_weight=0.41762416461211643),\n",
       " Item(index=383, value=105696, weight=253092, value_weight=0.4176188895737518),\n",
       " Item(index=396, value=111716, weight=267532, value_weight=0.41757995305234513),\n",
       " Item(index=372, value=85872, weight=205644, value_weight=0.4175760051350878),\n",
       " Item(index=70, value=85864, weight=205628, value_weight=0.4175695916898477),\n",
       " Item(index=357, value=85864, weight=205628, value_weight=0.4175695916898477),\n",
       " Item(index=124, value=75716, weight=181332, value_weight=0.41755454084221205),\n",
       " Item(index=203, value=104036, weight=249172, value_weight=0.41752684892363506),\n",
       " Item(index=362, value=104036, weight=249172, value_weight=0.41752684892363506),\n",
       " Item(index=384, value=96404, weight=230908, value_weight=0.41749961023437904),\n",
       " Item(index=390, value=100948, weight=241796, value_weight=0.4174924316365862),\n",
       " Item(index=343, value=91812, weight=219924, value_weight=0.4174714901511431),\n",
       " Item(index=87, value=65488, weight=156876, value_weight=0.41745072541370254),\n",
       " Item(index=182, value=65488, weight=156876, value_weight=0.41745072541370254),\n",
       " Item(index=293, value=67468, weight=161636, value_weight=0.4174070132891188),\n",
       " Item(index=141, value=70476, weight=168852, value_weight=0.4173832705564636),\n",
       " Item(index=265, value=65404, weight=156708, value_weight=0.41736222783776195),\n",
       " Item(index=291, value=60348, weight=144596, value_weight=0.41735594345625054),\n",
       " Item(index=95, value=56788, weight=136076, value_weight=0.41732561215791175),\n",
       " Item(index=359, value=56788, weight=136076, value_weight=0.41732561215791175),\n",
       " Item(index=67, value=57796, weight=138492, value_weight=0.4173237443318026),\n",
       " Item(index=108, value=71372, weight=171044, value_weight=0.4172727485325413),\n",
       " Item(index=24, value=51188, weight=122676, value_weight=0.41726173008575435),\n",
       " Item(index=111, value=64292, weight=154084, value_weight=0.4172529269748968),\n",
       " Item(index=56, value=74372, weight=178244, value_weight=0.41724826642131013),\n",
       " Item(index=285, value=80924, weight=193948, value_weight=0.41724585971497513),\n",
       " Item(index=312, value=64276, weight=154052, value_weight=0.4172357385817776),\n",
       " Item(index=120, value=59700, weight=143100, value_weight=0.4171907756813417),\n",
       " Item(index=286, value=63700, weight=152700, value_weight=0.4171578258022266),\n",
       " Item(index=106, value=49092, weight=117684, value_weight=0.41715101458142145),\n",
       " Item(index=277, value=47036, weight=112772, value_weight=0.41708934841982054),\n",
       " Item(index=284, value=68140, weight=163380, value_weight=0.4170645121801934),\n",
       " Item(index=392, value=62604, weight=150108, value_weight=0.41705971700375727),\n",
       " Item(index=147, value=55044, weight=131988, value_weight=0.4170379125375034),\n",
       " Item(index=268, value=45988, weight=110276, value_weight=0.41702637019841127),\n",
       " Item(index=109, value=66572, weight=159644, value_weight=0.4170028312996417),\n",
       " Item(index=271, value=41356, weight=99212, value_weight=0.4168447365238076),\n",
       " Item(index=272, value=39844, weight=95588, value_weight=0.4168305645060049),\n",
       " Item(index=165, value=42848, weight=102796, value_weight=0.4168255574146854),\n",
       " Item(index=345, value=42848, weight=102796, value_weight=0.4168255574146854),\n",
       " Item(index=39, value=47844, weight=114788, value_weight=0.41680315015506847),\n",
       " Item(index=352, value=47844, weight=114788, value_weight=0.41680315015506847),\n",
       " Item(index=346, value=33268, weight=79836, value_weight=0.41670424369958414),\n",
       " Item(index=276, value=47756, weight=114612, value_weight=0.4166753917565351),\n",
       " Item(index=310, value=40748, weight=97796, value_weight=0.4166632582109698),\n",
       " Item(index=311, value=40748, weight=97796, value_weight=0.4166632582109698),\n",
       " Item(index=394, value=33740, weight=80980, value_weight=0.4166460854531983),\n",
       " Item(index=196, value=47728, weight=114556, value_weight=0.41663465903139074),\n",
       " Item(index=309, value=39228, weight=94156, value_weight=0.41662772420238753),\n",
       " Item(index=297, value=49676, weight=119252, value_weight=0.4165632442223191),\n",
       " Item(index=208, value=30180, weight=72460, value_weight=0.4165056582942313),\n",
       " Item(index=386, value=42140, weight=101180, value_weight=0.4164854714370429),\n",
       " Item(index=130, value=33156, weight=79612, value_weight=0.41646987891272674),\n",
       " Item(index=145, value=39628, weight=95156, value_weight=0.4164529824708899),\n",
       " Item(index=149, value=29644, weight=71188, value_weight=0.4164184974995786),\n",
       " Item(index=215, value=41100, weight=98700, value_weight=0.41641337386018235),\n",
       " Item(index=4, value=43580, weight=104660, value_weight=0.4163959487865469),\n",
       " Item(index=301, value=26564, weight=63828, value_weight=0.4161809864009526),\n",
       " Item(index=256, value=36480, weight=87660, value_weight=0.4161533196440794),\n",
       " Item(index=143, value=33980, weight=81660, value_weight=0.41611560127357333),\n",
       " Item(index=280, value=29460, weight=70820, value_weight=0.4159841852584016),\n",
       " Item(index=7, value=29940, weight=71980, value_weight=0.41594887468741315),\n",
       " Item(index=266, value=28940, weight=69580, value_weight=0.4159241161253234),\n",
       " Item(index=98, value=31412, weight=75524, value_weight=0.4159207669085324),\n",
       " Item(index=206, value=24468, weight=58836, value_weight=0.41586783601876404),\n",
       " Item(index=214, value=24948, weight=59996, value_weight=0.4158277218481232),\n",
       " Item(index=222, value=34828, weight=83756, value_weight=0.4158269258321792),\n",
       " Item(index=0, value=31860, weight=76620, value_weight=0.4158183241973375),\n",
       " Item(index=325, value=24428, weight=58756, value_weight=0.415753284770917),\n",
       " Item(index=278, value=25908, weight=62316, value_weight=0.4157519738108993),\n",
       " Item(index=137, value=26364, weight=63428, value_weight=0.4156523932648042),\n",
       " Item(index=296, value=25836, weight=62172, value_weight=0.41555684230843465),\n",
       " Item(index=368, value=25836, weight=62172, value_weight=0.41555684230843465),\n",
       " Item(index=86, value=19916, weight=47932, value_weight=0.4155052991738296),\n",
       " Item(index=125, value=22364, weight=53828, value_weight=0.4154715018206138),\n",
       " Item(index=166, value=22844, weight=54988, value_weight=0.4154360951480323),\n",
       " Item(index=287, value=20860, weight=50220, value_weight=0.41537236160892077),\n",
       " Item(index=84, value=26252, weight=63204, value_weight=0.41535345864185813),\n",
       " Item(index=110, value=25268, weight=60836, value_weight=0.415346176605957),\n",
       " Item(index=216, value=28692, weight=69084, value_weight=0.4153204794163627),\n",
       " Item(index=41, value=25748, weight=61996, value_weight=0.4153171172333699),\n",
       " Item(index=308, value=25708, weight=61916, value_weight=0.4152077007558628),\n",
       " Item(index=395, value=25216, weight=60732, value_weight=0.41520121188170983),\n",
       " Item(index=144, value=19300, weight=46500, value_weight=0.4150537634408602),\n",
       " Item(index=112, value=21228, weight=51156, value_weight=0.41496598639455784),\n",
       " Item(index=283, value=22196, weight=53492, value_weight=0.4149405518582218),\n",
       " Item(index=114, value=19260, weight=46420, value_weight=0.4149073675140026),\n",
       " Item(index=113, value=16812, weight=40524, value_weight=0.4148652650281315),\n",
       " Item(index=289, value=16804, weight=40508, value_weight=0.41483163819492447),\n",
       " Item(index=49, value=17768, weight=42836, value_weight=0.414791297039873),\n",
       " Item(index=237, value=23596, weight=56892, value_weight=0.4147507558180412),\n",
       " Item(index=77, value=15804, weight=38108, value_weight=0.41471607011651096),\n",
       " Item(index=335, value=18188, weight=43876, value_weight=0.4145318625216519),\n",
       " Item(index=389, value=19616, weight=47332, value_weight=0.4144342094143497),\n",
       " Item(index=221, value=17188, weight=41476, value_weight=0.4144083325296557),\n",
       " Item(index=262, value=22028, weight=53156, value_weight=0.4144028896079464),\n",
       " Item(index=365, value=22028, weight=53156, value_weight=0.4144028896079464),\n",
       " Item(index=366, value=22028, weight=53156, value_weight=0.4144028896079464),\n",
       " Item(index=367, value=22028, weight=53156, value_weight=0.4144028896079464),\n",
       " Item(index=340, value=19604, weight=47308, value_weight=0.41439080071023926),\n",
       " Item(index=104, value=20084, weight=48468, value_weight=0.41437649583230174),\n",
       " Item(index=259, value=13280, weight=32060, value_weight=0.41422333125389893),\n",
       " Item(index=314, value=14724, weight=35548, value_weight=0.4142005176099921),\n",
       " Item(index=229, value=13756, weight=33212, value_weight=0.41418764302059496),\n",
       " Item(index=347, value=13260, weight=32020, value_weight=0.4141161773891318),\n",
       " Item(index=78, value=19020, weight=45940, value_weight=0.41401828471919894),\n",
       " Item(index=100, value=12276, weight=29652, value_weight=0.4140024281667341),\n",
       " Item(index=75, value=18052, weight=43604, value_weight=0.41399871571415464),\n",
       " Item(index=307, value=14660, weight=35420, value_weight=0.4138904573687182),\n",
       " Item(index=25, value=13684, weight=33068, value_weight=0.4138139591145518),\n",
       " Item(index=62, value=16564, weight=40028, value_weight=0.4138103327670631),\n",
       " Item(index=264, value=13196, weight=31892, value_weight=0.41377147874075004),\n",
       " Item(index=299, value=15588, weight=37676, value_weight=0.41373818876738505),\n",
       " Item(index=51, value=16540, weight=39980, value_weight=0.4137068534267134),\n",
       " Item(index=44, value=15580, weight=37660, value_weight=0.4137015400955921),\n",
       " Item(index=118, value=15580, weight=37660, value_weight=0.4137015400955921),\n",
       " Item(index=30, value=14132, weight=34164, value_weight=0.41365179721344103),\n",
       " Item(index=257, value=16968, weight=41036, value_weight=0.41349059362510965),\n",
       " Item(index=282, value=16964, weight=41028, value_weight=0.4134737252607975),\n",
       " Item(index=180, value=15996, weight=38692, value_weight=0.4134187945828595),\n",
       " Item(index=324, value=12172, weight=29444, value_weight=0.4133949191685912),\n",
       " Item(index=23, value=13596, weight=32892, value_weight=0.4133527909522072),\n",
       " Item(index=350, value=13596, weight=32892, value_weight=0.4133527909522072),\n",
       " Item(index=351, value=13596, weight=32892, value_weight=0.4133527909522072),\n",
       " Item(index=231, value=15980, weight=38660, value_weight=0.413347128815313),\n",
       " Item(index=319, value=14548, weight=35196, value_weight=0.4133424252755995),\n",
       " Item(index=139, value=16932, weight=40964, value_weight=0.41333854115809004),\n",
       " Item(index=47, value=15500, weight=37500, value_weight=0.41333333333333333),\n",
       " Item(index=85, value=11676, weight=28252, value_weight=0.4132804757185332),\n",
       " Item(index=295, value=11196, weight=27092, value_weight=0.4132585265022885),\n",
       " Item(index=138, value=14036, weight=33972, value_weight=0.41316378193806663),\n",
       " Item(index=302, value=16412, weight=39724, value_weight=0.41315074010673647),\n",
       " Item(index=121, value=14500, weight=35100, value_weight=0.4131054131054131),\n",
       " Item(index=50, value=16396, weight=39692, value_weight=0.4130807215559811),\n",
       " Item(index=329, value=14492, weight=35084, value_weight=0.4130657849732072),\n",
       " Item(index=235, value=11164, weight=27028, value_weight=0.41305313008731687),\n",
       " Item(index=53, value=10196, weight=24692, value_weight=0.4129272638911388),\n",
       " Item(index=236, value=13036, weight=31572, value_weight=0.41289750411757253),\n",
       " Item(index=316, value=11612, weight=28124, value_weight=0.4128857914948087),\n",
       " Item(index=369, value=11612, weight=28124, value_weight=0.4128857914948087),\n",
       " Item(index=370, value=11612, weight=28124, value_weight=0.4128857914948087),\n",
       " Item(index=371, value=11612, weight=28124, value_weight=0.4128857914948087),\n",
       " Item(index=157, value=14436, weight=34972, value_weight=0.41278737275534716),\n",
       " Item(index=213, value=14428, weight=34956, value_weight=0.41274745394209866),\n",
       " Item(index=363, value=14428, weight=34956, value_weight=0.41274745394209866),\n",
       " Item(index=364, value=14428, weight=34956, value_weight=0.41274745394209866),\n",
       " Item(index=68, value=12052, weight=29204, value_weight=0.4126831940830023),\n",
       " Item(index=333, value=10124, weight=24548, value_weight=0.41241649014176307),\n",
       " Item(index=160, value=12468, weight=30236, value_weight=0.41235613176346075),\n",
       " Item(index=323, value=10100, weight=24500, value_weight=0.4122448979591837),\n",
       " Item(index=211, value=11496, weight=27892, value_weight=0.4121611931736699),\n",
       " Item(index=105, value=11492, weight=27884, value_weight=0.41213599196671924),\n",
       " Item(index=164, value=8676, weight=21052, value_weight=0.41212236367091015),\n",
       " Item(index=321, value=9132, weight=22164, value_weight=0.41201949106659447),\n",
       " Item(index=318, value=10060, weight=24420, value_weight=0.411957411957412),\n",
       " Item(index=328, value=8652, weight=21004, value_weight=0.411921538754523),\n",
       " Item(index=339, value=10052, weight=24404, value_weight=0.41189968857564335),\n",
       " Item(index=13, value=8172, weight=19844, value_weight=0.4118121346502721),\n",
       " Item(index=247, value=8636, weight=20972, value_weight=0.41178714476444783),\n",
       " Item(index=252, value=8636, weight=20972, value_weight=0.41178714476444783),\n",
       " Item(index=2, value=10492, weight=25484, value_weight=0.41170930780097315),\n",
       " Item(index=155, value=10492, weight=25484, value_weight=0.41170930780097315),\n",
       " Item(index=361, value=10492, weight=25484, value_weight=0.41170930780097315),\n",
       " Item(index=156, value=12820, weight=31140, value_weight=0.41168914579319205),\n",
       " Item(index=1, value=11884, weight=28868, value_weight=0.4116668976028821),\n",
       " Item(index=72, value=10484, weight=25468, value_weight=0.4116538401130831),\n",
       " Item(index=246, value=7676, weight=18652, value_weight=0.41153763671456145),\n",
       " Item(index=18, value=7668, weight=18636, value_weight=0.41146168705730846),\n",
       " Item(index=26, value=8596, weight=20892, value_weight=0.41144935860616505),\n",
       " Item(index=232, value=9056, weight=22012, value_weight=0.4114119571143013),\n",
       " Item(index=230, value=9980, weight=24260, value_weight=0.4113767518549052),\n",
       " Item(index=261, value=9044, weight=21988, value_weight=0.41131526287065673),\n",
       " Item(index=303, value=8108, weight=19716, value_weight=0.41123960235341855),\n",
       " Item(index=337, value=9492, weight=23084, value_weight=0.4111939005371686),\n",
       " Item(index=126, value=7636, weight=18572, value_weight=0.41115657979754466),\n",
       " Item(index=65, value=9012, weight=21924, value_weight=0.41105637657361793),\n",
       " Item(index=5, value=9004, weight=21908, value_weight=0.4109914186598503),\n",
       " Item(index=150, value=9460, weight=23020, value_weight=0.4109470026064292),\n",
       " Item(index=305, value=9884, weight=24068, value_weight=0.4106697689878677),\n",
       " Item(index=239, value=7584, weight=18468, value_weight=0.4106562703053931),\n",
       " Item(index=245, value=8500, weight=20700, value_weight=0.4106280193236715),\n",
       " Item(index=162, value=9876, weight=24052, value_weight=0.4106103442541161),\n",
       " Item(index=54, value=6652, weight=16204, value_weight=0.41051592199456927),\n",
       " Item(index=341, value=6644, weight=16188, value_weight=0.41042747714356315),\n",
       " Item(index=224, value=8004, weight=19508, value_weight=0.4102932130408038),\n",
       " Item(index=132, value=6628, weight=16156, value_weight=0.41025006189650903),\n",
       " Item(index=360, value=6628, weight=16156, value_weight=0.41025006189650903),\n",
       " Item(index=223, value=7540, weight=18380, value_weight=0.4102285092491839),\n",
       " Item(index=15, value=8436, weight=20572, value_weight=0.41007194244604317),\n",
       " Item(index=48, value=9348, weight=22796, value_weight=0.41007194244604317),\n",
       " Item(index=281, value=7964, weight=19428, value_weight=0.40992382128886146),\n",
       " Item(index=69, value=7052, weight=17204, value_weight=0.4099046733317833),\n",
       " Item(index=12, value=6596, weight=16092, value_weight=0.40989311459110117),\n",
       " Item(index=133, value=7036, weight=17172, value_weight=0.4097367808059632),\n",
       " Item(index=8, value=7484, weight=18268, value_weight=0.4096781256842566),\n",
       " Item(index=275, value=7924, weight=19348, value_weight=0.40955137481910275),\n",
       " Item(index=11, value=6564, weight=16028, value_weight=0.40953331669578236),\n",
       " Item(index=348, value=6564, weight=16028, value_weight=0.40953331669578236),\n",
       " Item(index=181, value=8372, weight=20444, value_weight=0.40950890236744275),\n",
       " Item(index=42, value=7012, weight=17124, value_weight=0.4094837654753562),\n",
       " Item(index=10, value=7900, weight=19300, value_weight=0.40932642487046633),\n",
       " Item(index=28, value=7900, weight=19300, value_weight=0.40932642487046633),\n",
       " Item(index=99, value=9252, weight=22604, value_weight=0.40930808706423644),\n",
       " Item(index=330, value=8796, weight=21492, value_weight=0.4092685650474595),\n",
       " Item(index=304, value=6084, weight=14868, value_weight=0.4092009685230024),\n",
       " Item(index=91, value=8332, weight=20364, value_weight=0.4091534079748576),\n",
       " Item(index=19, value=6524, weight=15948, value_weight=0.4090795084023075),\n",
       " Item(index=349, value=6524, weight=15948, value_weight=0.4090795084023075),\n",
       " Item(index=17, value=6972, weight=17044, value_weight=0.4090589063600094),\n",
       " Item(index=97, value=7868, weight=19236, value_weight=0.4090247452692867),\n",
       " Item(index=163, value=8752, weight=21404, value_weight=0.40889553354513175),\n",
       " Item(index=332, value=6056, weight=14812, value_weight=0.4088576829597624),\n",
       " Item(index=220, value=5604, weight=13708, value_weight=0.40881237233732126),\n",
       " Item(index=244, value=5604, weight=13708, value_weight=0.40881237233732126),\n",
       " Item(index=129, value=7388, weight=18076, value_weight=0.40871874308475326),\n",
       " Item(index=36, value=6924, weight=16948, value_weight=0.4085437809771064),\n",
       " Item(index=123, value=6028, weight=14756, value_weight=0.4085117918134996),\n",
       " Item(index=29, value=6460, weight=15820, value_weight=0.4083438685208597),\n",
       " Item(index=127, value=6444, weight=15788, value_weight=0.4081580947555105),\n",
       " Item(index=16, value=7332, weight=17964, value_weight=0.4081496325985304),\n",
       " Item(index=234, value=8212, weight=20124, value_weight=0.4080699662095011),\n",
       " Item(index=135, value=7300, weight=17900, value_weight=0.40782122905027934),\n",
       " Item(index=338, value=7300, weight=17900, value_weight=0.40782122905027934),\n",
       " Item(index=115, value=7740, weight=18980, value_weight=0.4077976817702845),\n",
       " Item(index=331, value=6408, weight=15716, value_weight=0.4077373377449733),\n",
       " Item(index=336, value=7732, weight=18964, value_weight=0.4077198903184982),\n",
       " Item(index=207, value=7716, weight=18932, value_weight=0.4075639129516163),\n",
       " Item(index=71, value=5068, weight=12436, value_weight=0.40752653586362175),\n",
       " Item(index=83, value=6828, weight=16756, value_weight=0.407495822391979),\n",
       " Item(index=37, value=5500, weight=13500, value_weight=0.4074074074074074),\n",
       " Item(index=9, value=5932, weight=14564, value_weight=0.40730568525130456),\n",
       " Item(index=233, value=5052, weight=12404, value_weight=0.4072879716220574),\n",
       " Item(index=219, value=7684, weight=18868, value_weight=0.407250370998516),\n",
       " Item(index=251, value=5484, weight=13468, value_weight=0.4071874071874072),\n",
       " Item(index=158, value=5044, weight=12388, value_weight=0.40716822731675817),\n",
       " Item(index=248, value=4588, weight=11276, value_weight=0.40688187300461154),\n",
       " Item(index=122, value=7208, weight=17716, value_weight=0.40686385188530144),\n",
       " Item(index=61, value=5460, weight=13420, value_weight=0.4068554396423249),\n",
       " Item(index=185, value=5012, weight=12324, value_weight=0.406686140863356),\n",
       " Item(index=154, value=6308, weight=15516, value_weight=0.4065480794019077),\n",
       " Item(index=88, value=7172, weight=17644, value_weight=0.40648379052369077),\n",
       " Item(index=96, value=7172, weight=17644, value_weight=0.40648379052369077),\n",
       " Item(index=57, value=4556, weight=11212, value_weight=0.40635033892258293),\n",
       " Item(index=142, value=4552, weight=11204, value_weight=0.4062834701892181),\n",
       " Item(index=31, value=4980, weight=12260, value_weight=0.4061990212071778),\n",
       " Item(index=33, value=6276, weight=15452, value_weight=0.4061610147553715),\n",
       " Item(index=315, value=4540, weight=11180, value_weight=0.40608228980322003),\n",
       " Item(index=317, value=4972, weight=12244, value_weight=0.4060764456060111),\n",
       " Item(index=6, value=6700, weight=16500, value_weight=0.40606060606060607),\n",
       " Item(index=22, value=5396, weight=13292, value_weight=0.40595847126090884),\n",
       " Item(index=20, value=6244, weight=15388, value_weight=0.40577073043930334),\n",
       " Item(index=167, value=6244, weight=15388, value_weight=0.40577073043930334),\n",
       " Item(index=73, value=4516, weight=11132, value_weight=0.40567732662594325),\n",
       " Item(index=102, value=4516, weight=11132, value_weight=0.40567732662594325),\n",
       " Item(index=279, value=4516, weight=11132, value_weight=0.40567732662594325),\n",
       " Item(index=242, value=5368, weight=13236, value_weight=0.40556059232396496),\n",
       " Item(index=140, value=5788, weight=14276, value_weight=0.405435696273466),\n",
       " Item(index=240, value=5772, weight=14244, value_weight=0.405223251895535),\n",
       " Item(index=212, value=4916, weight=12132, value_weight=0.405209363666337),\n",
       " Item(index=146, value=4484, weight=11068, value_weight=0.4051319118178533),\n",
       " Item(index=298, value=6188, weight=15276, value_weight=0.4050798638387012),\n",
       " Item(index=58, value=4900, weight=12100, value_weight=0.4049586776859504),\n",
       " Item(index=322, value=5752, weight=14204, value_weight=0.4049563503238524),\n",
       " Item(index=14, value=5324, weight=13148, value_weight=0.40492850623668997),\n",
       " Item(index=388, value=4036, weight=9972, value_weight=0.4047332531087044),\n",
       " Item(index=92, value=5308, weight=13116, value_weight=0.4046965538273864),\n",
       " Item(index=136, value=4452, weight=11004, value_weight=0.40458015267175573),\n",
       " Item(index=274, value=4028, weight=9956, value_weight=0.40458015267175573),\n",
       " Item(index=250, value=4860, weight=12020, value_weight=0.4043261231281198),\n",
       " Item(index=66, value=4428, weight=10956, value_weight=0.40416210295728366),\n",
       " Item(index=55, value=4848, weight=11996, value_weight=0.4041347115705235),\n",
       " Item(index=153, value=3580, weight=8860, value_weight=0.4040632054176072),\n",
       " Item(index=300, value=4412, weight=10924, value_weight=0.40388136213841086),\n",
       " Item(index=204, value=5248, weight=12996, value_weight=0.40381655894121266),\n",
       " Item(index=119, value=4824, weight=11948, value_weight=0.40374958151991963),\n",
       " Item(index=209, value=4824, weight=11948, value_weight=0.40374958151991963),\n",
       " Item(index=270, value=4820, weight=11940, value_weight=0.4036850921273032),\n",
       " Item(index=258, value=5232, weight=12964, value_weight=0.40357914224004937),\n",
       " Item(index=32, value=5216, weight=12932, value_weight=0.40334055057222395),\n",
       " Item(index=116, value=5632, weight=13964, value_weight=0.40332283013463194),\n",
       " Item(index=161, value=4380, weight=10860, value_weight=0.40331491712707185),\n",
       " Item(index=94, value=5208, weight=12916, value_weight=0.4032208113967172),\n",
       " Item(index=243, value=4364, weight=10828, value_weight=0.40302918359807904),\n",
       " Item(index=128, value=5192, weight=12884, value_weight=0.40298044085687673),\n",
       " Item(index=294, value=4772, weight=11844, value_weight=0.4029044241810199),\n",
       " Item(index=327, value=4356, weight=10812, value_weight=0.40288568257491675),\n",
       " Item(index=184, value=4756, weight=11812, value_weight=0.40264138164578395),\n",
       " Item(index=59, value=3508, weight=8716, value_weight=0.40247820100963744),\n",
       " Item(index=253, value=5140, weight=12780, value_weight=0.40219092331768386),\n",
       " Item(index=63, value=3896, weight=9692, value_weight=0.40198101527032604),\n",
       " Item(index=226, value=5124, weight=12748, value_weight=0.40194540320050204),\n",
       " Item(index=43, value=3440, weight=8580, value_weight=0.40093240093240096),\n",
       " Item(index=131, value=3032, weight=7564, value_weight=0.4008461131676362),\n",
       " Item(index=64, value=3832, weight=9564, value_weight=0.40066917607695524),\n",
       " Item(index=263, value=4632, weight=11564, value_weight=0.4005534417156693),\n",
       " Item(index=306, value=4224, weight=10548, value_weight=0.4004550625711035),\n",
       " Item(index=60, value=3820, weight=9540, value_weight=0.40041928721174),\n",
       " Item(index=344, value=4620, weight=11540, value_weight=0.4003466204506066),\n",
       " Item(index=93, value=3780, weight=9460, value_weight=0.39957716701902746),\n",
       " Item(index=89, value=3772, weight=9444, value_weight=0.39940703091910207),\n",
       " Item(index=249, value=4152, weight=10404, value_weight=0.3990772779700115),\n",
       " Item(index=80, value=3732, weight=9364, value_weight=0.3985476292182828),\n",
       " Item(index=241, value=4124, weight=10348, value_weight=0.39853111712408196),\n",
       " Item(index=326, value=3336, weight=8372, value_weight=0.39847109412326803),\n",
       " Item(index=82, value=4120, weight=10340, value_weight=0.3984526112185687),\n",
       " Item(index=101, value=3712, weight=9324, value_weight=0.3981123981123981),\n",
       " Item(index=81, value=2920, weight=7340, value_weight=0.3978201634877384),\n",
       " Item(index=117, value=3256, weight=8212, value_weight=0.3964929371651242),\n",
       " Item(index=74, value=3620, weight=9140, value_weight=0.39606126914660833),\n",
       " Item(index=46, value=2852, weight=7204, value_weight=0.39589117157134923),\n",
       " Item(index=134, value=3200, weight=8100, value_weight=0.3950617283950617),\n",
       " Item(index=290, value=3195, weight=8090, value_weight=0.39493201483312734),\n",
       " Item(index=38, value=3148, weight=7996, value_weight=0.3936968484242121),\n",
       " Item(index=320, value=3136, weight=7972, value_weight=0.3933768188660311),\n",
       " Item(index=238, value=2028, weight=5156, value_weight=0.39332816136539955),\n",
       " Item(index=227, value=3096, weight=7892, value_weight=0.39229599594526104),\n",
       " Item(index=35, value=3084, weight=7868, value_weight=0.3919674631418404),\n",
       " Item(index=218, value=3073, weight=7846, value_weight=0.39166454244200866),\n",
       " Item(index=225, value=2648, weight=6796, value_weight=0.3896409652736904),\n",
       " Item(index=292, value=1901, weight=4902, value_weight=0.38780089759281927),\n",
       " Item(index=373, value=1377, weight=3654, value_weight=0.3768472906403941),\n",
       " Item(index=288, value=1682, weight=4464, value_weight=0.3767921146953405),\n",
       " Item(index=195, value=1208, weight=3316, value_weight=0.36429433051869725),\n",
       " Item(index=3, value=901, weight=2502, value_weight=0.3601119104716227),\n",
       " Item(index=159, value=1155, weight=3210, value_weight=0.3598130841121495),\n",
       " Item(index=273, value=897, weight=2494, value_weight=0.35966319165998395),\n",
       " Item(index=210, value=1120, weight=3140, value_weight=0.35668789808917195),\n",
       " Item(index=267, value=865, weight=2430, value_weight=0.3559670781893004),\n",
       " Item(index=217, value=826, weight=2352, value_weight=0.35119047619047616),\n",
       " Item(index=34, value=701, weight=2102, value_weight=0.3334919124643197),\n",
       " Item(index=269, value=670, weight=2040, value_weight=0.3284313725490196),\n",
       " Item(index=21, value=635, weight=1970, value_weight=0.3223350253807107),\n",
       " Item(index=148, value=574, weight=1848, value_weight=0.3106060606060606),\n",
       " Item(index=45, value=314, weight=1128, value_weight=0.2783687943262411),\n",
       " Item(index=168, value=314, weight=1128, value_weight=0.2783687943262411),\n",
       " Item(index=169, value=314, weight=1128, value_weight=0.2783687943262411),\n",
       " Item(index=170, value=314, weight=1128, value_weight=0.2783687943262411),\n",
       " Item(index=171, value=314, weight=1128, value_weight=0.2783687943262411),\n",
       " Item(index=172, value=314, weight=1128, value_weight=0.2783687943262411),\n",
       " Item(index=173, value=314, weight=1128, value_weight=0.2783687943262411),\n",
       " Item(index=175, value=314, weight=1128, value_weight=0.2783687943262411),\n",
       " Item(index=176, value=314, weight=1128, value_weight=0.2783687943262411),\n",
       " Item(index=177, value=314, weight=1128, value_weight=0.2783687943262411),\n",
       " Item(index=178, value=314, weight=1128, value_weight=0.2783687943262411),\n",
       " Item(index=179, value=314, weight=1128, value_weight=0.2783687943262411),\n",
       " Item(index=187, value=314, weight=1128, value_weight=0.2783687943262411),\n",
       " Item(index=188, value=314, weight=1128, value_weight=0.2783687943262411),\n",
       " Item(index=189, value=314, weight=1128, value_weight=0.2783687943262411),\n",
       " Item(index=190, value=314, weight=1128, value_weight=0.2783687943262411),\n",
       " Item(index=191, value=314, weight=1128, value_weight=0.2783687943262411),\n",
       " Item(index=192, value=314, weight=1128, value_weight=0.2783687943262411),\n",
       " Item(index=193, value=314, weight=1128, value_weight=0.2783687943262411),\n",
       " Item(index=197, value=314, weight=1128, value_weight=0.2783687943262411),\n",
       " Item(index=198, value=314, weight=1128, value_weight=0.2783687943262411),\n",
       " Item(index=199, value=314, weight=1128, value_weight=0.2783687943262411),\n",
       " Item(index=200, value=314, weight=1128, value_weight=0.2783687943262411),\n",
       " Item(index=201, value=314, weight=1128, value_weight=0.2783687943262411),\n",
       " Item(index=202, value=314, weight=1128, value_weight=0.2783687943262411),\n",
       " Item(index=205, value=312, weight=1124, value_weight=0.2775800711743772),\n",
       " Item(index=152, value=304, weight=1108, value_weight=0.2743682310469314),\n",
       " Item(index=183, value=304, weight=1108, value_weight=0.2743682310469314),\n",
       " Item(index=186, value=304, weight=1108, value_weight=0.2743682310469314),\n",
       " Item(index=194, value=304, weight=1108, value_weight=0.2743682310469314),\n",
       " Item(index=76, value=21, weight=542, value_weight=0.03874538745387454)]"
      ]
     },
     "execution_count": 92,
     "metadata": {},
     "output_type": "execute_result"
    }
   ],
   "source": [
    "items"
   ]
  },
  {
   "cell_type": "code",
   "execution_count": 46,
   "metadata": {},
   "outputs": [],
   "source": [
    "def nb_errors(capacity, items, takens):\n",
    "    total_weight = 0\n",
    "    total_value = 0\n",
    "    error = 0\n",
    "    for item in items:\n",
    "        if total_weight + item.weight < capacity:\n",
    "            if item.index not in takens:\n",
    "                error += 1\n",
    "            else:\n",
    "                total_weight += item.weight\n",
    "                total_value += item.value\n",
    "    return error, total_weight, total_value"
   ]
  },
  {
   "cell_type": "code",
   "execution_count": 66,
   "metadata": {},
   "outputs": [
    {
     "data": {
      "text/plain": [
       "(1, 99999, 109899)"
      ]
     },
     "execution_count": 66,
     "metadata": {},
     "output_type": "execute_result"
    }
   ],
   "source": [
    "nb_errors(capacity,items,takens3)"
   ]
  },
  {
   "cell_type": "code",
   "execution_count": null,
   "metadata": {},
   "outputs": [],
   "source": [
    "reload(solver)"
   ]
  },
  {
   "cell_type": "code",
   "execution_count": 61,
   "metadata": {
    "collapsed": true
   },
   "outputs": [],
   "source": [
    "import sys"
   ]
  },
  {
   "cell_type": "code",
   "execution_count": 62,
   "metadata": {},
   "outputs": [
    {
     "data": {
      "text/plain": [
       "2000"
      ]
     },
     "execution_count": 62,
     "metadata": {},
     "output_type": "execute_result"
    }
   ],
   "source": [
    "sys.setrecursionlimit(2000)\n",
    "sys.getrecursionlimit()"
   ]
  },
  {
   "cell_type": "code",
   "execution_count": 105,
   "metadata": {},
   "outputs": [
    {
     "data": {
      "text/plain": [
       "[Item(index=374, value=1365820, weight=3265540, value_weight=0.41825241767058435),\n",
       " Item(index=376, value=1445900, weight=3457100, value_weight=0.4182407219924214),\n",
       " Item(index=391, value=1417728, weight=3389756, value_weight=0.41823895289218455),\n",
       " Item(index=399, value=1211040, weight=2895580, value_weight=0.4182374515641081),\n",
       " Item(index=379, value=492496, weight=1177692, value_weight=0.4181874378020739),\n",
       " Item(index=377, value=501060, weight=1198220, value_weight=0.41817028592412075),\n",
       " Item(index=393, value=491820, weight=1176140, value_weight=0.4181645042256874),\n",
       " Item(index=375, value=562272, weight=1344644, value_weight=0.41815677606860996),\n",
       " Item(index=174, value=387480, weight=926660, value_weight=0.41814689314311615),\n",
       " Item(index=334, value=387480, weight=926660, value_weight=0.41814689314311615),\n",
       " Item(index=52, value=395124, weight=944948, value_weight=0.41814364388304964),\n",
       " Item(index=397, value=400156, weight=957012, value_weight=0.4181305981534192),\n",
       " Item(index=380, value=387824, weight=927548, value_weight=0.41811744513491483),\n",
       " Item(index=254, value=236380, weight=565460, value_weight=0.4180313373182895),\n",
       " Item(index=79, value=170844, weight=408788, value_weight=0.41792811922072076),\n",
       " Item(index=358, value=170844, weight=408788, value_weight=0.41792811922072076),\n",
       " Item(index=40, value=226844, weight=542788, value_weight=0.4179237566047886),\n",
       " Item(index=353, value=226844, weight=542788, value_weight=0.4179237566047886),\n",
       " Item(index=354, value=226844, weight=542788, value_weight=0.4179237566047886),\n",
       " Item(index=355, value=226844, weight=542788, value_weight=0.4179237566047886)]"
      ]
     },
     "execution_count": 105,
     "metadata": {},
     "output_type": "execute_result"
    }
   ],
   "source": [
    "items[:20]"
   ]
  },
  {
   "cell_type": "code",
   "execution_count": 123,
   "metadata": {},
   "outputs": [
    {
     "name": "stdout",
     "output_type": "stream",
     "text": [
      "Wall time: 159 ms\n"
     ]
    },
    {
     "data": {
      "text/plain": [
       "(3967180, [374, 376, 377, 375, 107, 164])"
      ]
     },
     "execution_count": 123,
     "metadata": {},
     "output_type": "execute_result"
    }
   ],
   "source": [
    "%time opt3,takens3 = solver.banch_bound_depth_first(capacity,items,0)\n",
    "opt3, takens3"
   ]
  },
  {
   "cell_type": "code",
   "execution_count": 121,
   "metadata": {},
   "outputs": [
    {
     "data": {
      "text/plain": [
       "(2, 9486360, 3967180)"
      ]
     },
     "execution_count": 121,
     "metadata": {},
     "output_type": "execute_result"
    }
   ],
   "source": [
    "nb_errors(capacity, items,takens3)"
   ]
  },
  {
   "cell_type": "code",
   "execution_count": 65,
   "metadata": {},
   "outputs": [
    {
     "data": {
      "text/plain": [
       "(True, 0.0, 109899)"
      ]
     },
     "execution_count": 65,
     "metadata": {},
     "output_type": "execute_result"
    }
   ],
   "source": [
    "solver.check_knapsack(capacity,items,takens3,-1)"
   ]
  },
  {
   "cell_type": "code",
   "execution_count": 124,
   "metadata": {},
   "outputs": [],
   "source": [
    "def branch_bound_depth_first_v2(capacity, items, max_error, error_index= []):\n",
    "    if max_error < 0:\n",
    "        return 0, 0, []\n",
    "    \n",
    "    total_weight = 0\n",
    "    total_value = 0\n",
    "    selected_index = []\n",
    "    for item in items:\n",
    "        if item.index not in error_index:\n",
    "            if total_weight + item.weight < capacity:\n",
    "                selected_index += [item.index]\n",
    "                total_weight += item.weight\n",
    "                total_value += item.value\n",
    "                \n",
    "    for idx in selected_index:\n",
    "        total_value_2, total_weight_2, selected_index_2 = branch_bound_depth_first_v2(capacity,\n",
    "                                                                      items,\n",
    "                                                                      max_error-1,\n",
    "                                                                      error_index+[idx])\n",
    "        if total_value_2>total_value:\n",
    "            total_value = total_value_2\n",
    "            total_weight = total_weight_2\n",
    "            selected_index = selected_index_2\n",
    "    \n",
    "    return total_value, total_weight, selected_index"
   ]
  },
  {
   "cell_type": "code",
   "execution_count": 136,
   "metadata": {},
   "outputs": [
    {
     "data": {
      "text/plain": [
       "(1099893,\n",
       " 999994,\n",
       " [3003,\n",
       "  568,\n",
       "  7055,\n",
       "  3023,\n",
       "  8034,\n",
       "  9756,\n",
       "  1824,\n",
       "  7577,\n",
       "  2946,\n",
       "  2641,\n",
       "  9431,\n",
       "  2192,\n",
       "  2827,\n",
       "  7498,\n",
       "  6113])"
      ]
     },
     "execution_count": 136,
     "metadata": {},
     "output_type": "execute_result"
    }
   ],
   "source": [
    "branch_bound_depth_first_v2(capacity,items,1)"
   ]
  }
 ],
 "metadata": {
  "kernelspec": {
   "display_name": "Python 2",
   "language": "python",
   "name": "python2"
  },
  "language_info": {
   "codemirror_mode": {
    "name": "ipython",
    "version": 2
   },
   "file_extension": ".py",
   "mimetype": "text/x-python",
   "name": "python",
   "nbconvert_exporter": "python",
   "pygments_lexer": "ipython2",
   "version": "2.7.13"
  }
 },
 "nbformat": 4,
 "nbformat_minor": 2
}
